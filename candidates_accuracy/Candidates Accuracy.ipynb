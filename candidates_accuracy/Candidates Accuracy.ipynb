{
 "cells": [
  {
   "cell_type": "code",
   "execution_count": null,
   "metadata": {},
   "outputs": [],
   "source": [
    "import pandas as pd\n",
    "from matplotlib import pyplot as plt\n",
    "from datetime import datetime as dt\n",
    "\n",
    "# plot pandas dates\n",
    "from pandas.tseries import converter\n",
    "pd.plotting.register_matplotlib_converters()\n",
    "\n",
    "# interactive graphs on jupyter notebook\n",
    "import mpld3"
   ]
  },
  {
   "cell_type": "markdown",
   "metadata": {},
   "source": [
    "# 1. Data Extraction\n",
    "### 1.1 Candidates Data"
   ]
  },
  {
   "cell_type": "code",
   "execution_count": null,
   "metadata": {},
   "outputs": [],
   "source": [
    "candidate_data = pd.read_csv('prediction_candidates.csv', sep=';', dtype={'number': str})\n",
    "# candidate_data.info()\n",
    "# candidate_data.describe(include='all')\n",
    "# candidate_data"
   ]
  },
  {
   "cell_type": "markdown",
   "metadata": {},
   "source": [
    "### 1.2. Result Data"
   ]
  },
  {
   "cell_type": "code",
   "execution_count": null,
   "metadata": {},
   "outputs": [],
   "source": [
    "raw_data = pd.read_csv('4D_result.csv', sep=';', dtype={'number': str})\n",
    "# raw_data.info()\n",
    "# raw_data.describe(include='all')"
   ]
  },
  {
   "cell_type": "markdown",
   "metadata": {},
   "source": [
    "# 2. Data Transformation"
   ]
  },
  {
   "cell_type": "code",
   "execution_count": null,
   "metadata": {
    "scrolled": true
   },
   "outputs": [],
   "source": [
    "transform_data = raw_data.copy()\n",
    "transform_data.loc[transform_data['company_code'] == 'DMC', 'company_code'] = 'Da Ma Cai'\n",
    "transform_data.loc[transform_data['company_code'] == 'MAG', 'company_code'] = 'Magnum'\n",
    "transform_data.loc[transform_data['company_code'] == 'ST', 'company_code'] = 'Sports Toto'\n",
    "\n",
    "transform_data.loc[transform_data['category'] == 'FST', 'category'] = '1st'\n",
    "transform_data.loc[transform_data['category'] == 'SCD', 'category'] = '2nd'\n",
    "transform_data.loc[transform_data['category'] == 'TRD', 'category'] = '3rd'\n",
    "transform_data.loc[transform_data['category'] == 'SP', 'category'] = 'Special'\n",
    "transform_data.loc[transform_data['category'] == 'CONS', 'category'] = 'Consolation'\n",
    "# transform_data"
   ]
  },
  {
   "cell_type": "markdown",
   "metadata": {},
   "source": [
    "# 3. Data Filtering"
   ]
  },
  {
   "cell_type": "code",
   "execution_count": null,
   "metadata": {
    "scrolled": true
   },
   "outputs": [],
   "source": [
    "date_from = transform_data.min()['draw_date']\n",
    "date_to = transform_data.max()['draw_date']\n",
    "\n",
    "# date_from = '2019-07-01'\n",
    "# date_to = '2019-07-31'\n",
    "\n",
    "company_code = 'Magnum'\n",
    "result_data = transform_data[(transform_data.number != '----') &\n",
    "                             (transform_data.company_code == company_code) &\n",
    "                             (transform_data.draw_date >= date_from) &\n",
    "                             (transform_data.draw_date <= date_to)]\n",
    "result_data = result_data.sort_values(by=['draw_date', 'company_code', 'position'])\n",
    "# result_data"
   ]
  },
  {
   "cell_type": "markdown",
   "metadata": {},
   "source": [
    "# 4. Data Manipulation\n",
    "### 4.1 Lookup for candidates occuring periods"
   ]
  },
  {
   "cell_type": "code",
   "execution_count": null,
   "metadata": {
    "scrolled": true
   },
   "outputs": [],
   "source": [
    "result_dict = result_data.groupby('number').agg({\n",
    "    'draw_date' : ', '.join,\n",
    "    'category' : ', '.join\n",
    "}).to_dict('index')\n",
    "\n",
    "candidate_data['category'] = [row['number'] in result_dict and result_dict[row['number']]['category'] or ''\n",
    "                                  for index, row in candidate_data.iterrows()]\n",
    "candidate_data['draw_date'] = [row['number'] in result_dict and result_dict[row['number']]['draw_date'] or ''\n",
    "                                   for index, row in candidate_data.iterrows()]\n",
    "\n",
    "# candidate_data.to_csv(f'{company_code}_candidates_accurancy_{date_from}_{date_to}.csv', sep=';', index=None, header=True)"
   ]
  },
  {
   "cell_type": "markdown",
   "metadata": {},
   "source": [
    "### 4.2 Data Pre-Processing"
   ]
  },
  {
   "cell_type": "code",
   "execution_count": null,
   "metadata": {},
   "outputs": [],
   "source": [
    "multi_period_candidate_indexes = list(candidate_data.index[candidate_data['category'].str.contains(',')])\n",
    "for candidate_index in multi_period_candidate_indexes:\n",
    "    tmp_data = candidate_data.iloc[candidate_index]\n",
    "    draw_dates = tmp_data['draw_date'].split(',')\n",
    "    categories = tmp_data['category'].split(',')\n",
    "    \n",
    "    # Distribute numbers occurred on multiple periods to new rows\n",
    "    # e.g. 8152 appeared at 2019-07-03 and 2019-07-27\n",
    "    for index, draw_date in enumerate(draw_dates):\n",
    "        candidate_data = candidate_data.append({\n",
    "            'number': tmp_data['number'],\n",
    "            'pattern': tmp_data['pattern'],\n",
    "            'group_4': tmp_data['group_4'],\n",
    "            'group_3': tmp_data['group_3'],\n",
    "            'group_2': tmp_data['group_2'],\n",
    "            'group_1': tmp_data['group_1'],\n",
    "            'odd_even': tmp_data['odd_even'],\n",
    "            'big_small': tmp_data['big_small'],\n",
    "            'category': categories[index].strip(),\n",
    "            'draw_date': draw_date.strip(),\n",
    "        }, ignore_index=True)\n",
    "\n",
    "# Remove rows with aggregated periods\n",
    "candidate_data = candidate_data.drop(multi_period_candidate_indexes)\n",
    "candidate_data = candidate_data.sort_values(by=['number', 'draw_date'])"
   ]
  },
  {
   "cell_type": "markdown",
   "metadata": {},
   "source": [
    "# 5. Accuracy Calculation"
   ]
  },
  {
   "cell_type": "code",
   "execution_count": null,
   "metadata": {
    "scrolled": true
   },
   "outputs": [],
   "source": [
    "matched_results = []\n",
    "total_price_count = 23\n",
    "total_candidate_count = candidate_data.groupby('number').count()['draw_date'].count()\n",
    "\n",
    "dates = result_data['draw_date'].unique()\n",
    "for date in dates:\n",
    "    matched_data = candidate_data[(candidate_data['category'] != '') & (candidate_data['draw_date'] == date)]\n",
    "    matched_count = matched_data.count()['number']\n",
    "    matched_results.append({\n",
    "        date: {\n",
    "            'match_count': matched_count,\n",
    "            'match_price_percent': round(matched_count / total_price_count, 4) * 100,\n",
    "            'match_number_percent': round(matched_count / total_candidate_count, 4) * 100,\n",
    "            'first_count': matched_data[matched_data['category'] == '1st'].count()['number'],\n",
    "            'second_count': matched_data[matched_data['category'] == '2nd'].count()['number'],\n",
    "            'third_count': matched_data[matched_data['category'] == '3rd'].count()['number'],\n",
    "            'special_count': matched_data[matched_data['category'] == 'Special'].count()['number'],\n",
    "            'consolation_count': matched_data[matched_data['category'] == 'Consolation'].count()['number'],\n",
    "        }\n",
    "    })\n",
    "\n",
    "matched_results = sorted(matched_results, key=lambda x: list(x.keys())[0], reverse=False)\n",
    "dates = [dt.strptime(list(matched_result.keys())[0], '%Y-%m-%d') for matched_result in matched_results]\n",
    "match_count_list = [list(matched_result.values())[0]['match_count'] for matched_result in matched_results]\n",
    "match_price_percent_list = [list(matched_result.values())[0]['match_price_percent'] for matched_result in matched_results]\n",
    "match_number_percent_list = [list(matched_result.values())[0]['match_number_percent'] for matched_result in matched_results]\n",
    "first_count_list = [list(matched_result.values())[0]['first_count'] for matched_result in matched_results]\n",
    "second_count_list = [list(matched_result.values())[0]['second_count'] for matched_result in matched_results]\n",
    "third_count_list = [list(matched_result.values())[0]['third_count'] for matched_result in matched_results]\n",
    "special_count_list = [list(matched_result.values())[0]['special_count'] for matched_result in matched_results]\n",
    "consolation_count_list = [list(matched_result.values())[0]['consolation_count'] for matched_result in matched_results]"
   ]
  },
  {
   "cell_type": "markdown",
   "metadata": {},
   "source": [
    "# 7. Accuracy Visualization"
   ]
  },
  {
   "cell_type": "code",
   "execution_count": null,
   "metadata": {},
   "outputs": [],
   "source": [
    "mpld3.enable_notebook()\n",
    "plt.rcParams['figure.figsize'] = [13, 7]\n",
    "\n",
    "plt.plot(dates, match_price_percent_list, marker='None', c='g', ls='-', label='Price Matched (%)')\n",
    "plt.plot(dates, match_number_percent_list, marker='None', c='b', ls='-', label='Fitness (%)')\n",
    "\n",
    "plt.title(f'{company_code} - Accurancy of {total_candidate_count} Candidates', fontsize=15)\n",
    "plt.xlabel(f'Draw Date ({date_from} to {date_to})', fontsize=12)\n",
    "plt.ylabel('Accurancy', fontsize=15)\n",
    "plt.legend()\n",
    "plt.grid()\n",
    "plt.show()"
   ]
  },
  {
   "cell_type": "code",
   "execution_count": null,
   "metadata": {},
   "outputs": [],
   "source": [
    "plt.plot(dates, first_count_list, marker='None', c='r', ls='-', label='1st')\n",
    "plt.plot(dates, second_count_list, marker='None', c='g', ls='-', label='2nd')\n",
    "plt.plot(dates, third_count_list, marker='None', c='b', ls='-', label='3rd')\n",
    "plt.plot(dates, special_count_list, marker='None', c='m', ls='-', label='Special')\n",
    "plt.plot(dates, consolation_count_list, marker='None', c='c', ls='-', label='Consolation')\n",
    "plt.plot(dates, match_count_list, marker='None', c='k', ls='-', label='Total')\n",
    "\n",
    "plt.title(f'{company_code} - Accurancy of {total_candidate_count} Candidates', fontsize=15)\n",
    "plt.xlabel(f'Draw Date ({date_from} to {date_to})', fontsize=15)\n",
    "plt.ylabel('Price Count', fontsize=12)\n",
    "plt.legend()\n",
    "plt.grid()\n",
    "plt.show()"
   ]
  },
  {
   "cell_type": "code",
   "execution_count": null,
   "metadata": {},
   "outputs": [],
   "source": []
  }
 ],
 "metadata": {
  "kernelspec": {
   "display_name": "Python 3",
   "language": "python",
   "name": "python3"
  },
  "language_info": {
   "codemirror_mode": {
    "name": "ipython",
    "version": 3
   },
   "file_extension": ".py",
   "mimetype": "text/x-python",
   "name": "python",
   "nbconvert_exporter": "python",
   "pygments_lexer": "ipython3",
   "version": "3.7.3"
  }
 },
 "nbformat": 4,
 "nbformat_minor": 2
}
