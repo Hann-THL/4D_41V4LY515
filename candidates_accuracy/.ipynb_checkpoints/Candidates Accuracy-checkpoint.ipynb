{
 "cells": [
  {
   "cell_type": "code",
   "execution_count": null,
   "metadata": {},
   "outputs": [],
   "source": [
    "import pandas as pd\n",
    "import itertools\n",
    "from datetime import datetime as dt\n",
    "\n",
    "# Bokeh\n",
    "from bokeh.plotting import figure, ColumnDataSource\n",
    "from bokeh.models import Legend, HoverTool\n",
    "from bokeh.core.properties import value\n",
    "from bokeh.palettes import Set1, Category10, Category20\n",
    "from bokeh.io import show, output_notebook\n",
    "output_notebook()"
   ]
  },
  {
   "cell_type": "markdown",
   "metadata": {},
   "source": [
    "# 1. Data Extraction\n",
    "### 1.1. Candidate Data"
   ]
  },
  {
   "cell_type": "code",
   "execution_count": null,
   "metadata": {},
   "outputs": [],
   "source": [
    "file = 'resources/data/candidates.csv'\n",
    "candidate_df = pd.read_csv(file, sep=';', dtype={'number': str})\n",
    "# candidate_df.info()\n",
    "# candidate_df.head()"
   ]
  },
  {
   "cell_type": "markdown",
   "metadata": {},
   "source": [
    "### 1.2 Result Data"
   ]
  },
  {
   "cell_type": "code",
   "execution_count": null,
   "metadata": {},
   "outputs": [],
   "source": [
    "file = 'resources/data/4D_result.csv'\n",
    "result_df = pd.read_csv(file, sep=';', dtype={'number': str})\n",
    "# result_df.info()\n",
    "# result_df.head()"
   ]
  },
  {
   "cell_type": "markdown",
   "metadata": {},
   "source": [
    "# 2. Data Transformation"
   ]
  },
  {
   "cell_type": "code",
   "execution_count": null,
   "metadata": {},
   "outputs": [],
   "source": [
    "transform_df = result_df.copy()\n",
    "transform_df.loc[transform_df['company_code'] == 'DMC', 'company_code'] = 'Da Ma Cai'\n",
    "transform_df.loc[transform_df['company_code'] == 'MAG', 'company_code'] = 'Magnum'\n",
    "transform_df.loc[transform_df['company_code'] == 'ST', 'company_code'] = 'Sports Toto'\n",
    "\n",
    "transform_df.loc[transform_df['category'] == 'FST', 'category'] = '1st'\n",
    "transform_df.loc[transform_df['category'] == 'SCD', 'category'] = '2nd'\n",
    "transform_df.loc[transform_df['category'] == 'TRD', 'category'] = '3rd'\n",
    "transform_df.loc[transform_df['category'] == 'SP', 'category'] = 'Special'\n",
    "transform_df.loc[transform_df['category'] == 'CONS', 'category'] = 'Consolation'\n",
    "# transform_df.head()"
   ]
  },
  {
   "cell_type": "markdown",
   "metadata": {},
   "source": [
    "# 3. Data Filtering"
   ]
  },
  {
   "cell_type": "code",
   "execution_count": null,
   "metadata": {},
   "outputs": [],
   "source": [
    "data_df = transform_df[(transform_df['number'] != '----')].copy()"
   ]
  },
  {
   "cell_type": "markdown",
   "metadata": {},
   "source": [
    "# 4. Data Manipulation\n",
    "### 4.1 Lookup for candidates occuring periods"
   ]
  },
  {
   "cell_type": "code",
   "execution_count": null,
   "metadata": {},
   "outputs": [],
   "source": [
    "all_company_candidate_df = None\n",
    "\n",
    "for company in data_df['company_code'].unique():\n",
    "    tmp_df = data_df[data_df['company_code'] == company]\n",
    "    result_dict = tmp_df.groupby('number').agg({\n",
    "        'draw_date' : ', '.join,\n",
    "        'category' : ', '.join\n",
    "    }).to_dict('index')\n",
    "    \n",
    "    company_candidate_df = candidate_df.copy()\n",
    "    company_candidate_df['company_code'] = company\n",
    "    \n",
    "    company_candidate_df['category'] = [row['number'] in result_dict and result_dict[row['number']]['category'] or ''\n",
    "                          for index, row in company_candidate_df.iterrows()]\n",
    "    company_candidate_df['draw_date'] = [row['number'] in result_dict and result_dict[row['number']]['draw_date'] or ''\n",
    "                           for index, row in company_candidate_df.iterrows()]\n",
    "    \n",
    "    out_file = f'resources/output/{company}_candidates_accurancy.csv'\n",
    "    company_candidate_df.to_csv(out_file, sep=';', index=None, header=True)\n",
    "    \n",
    "    if all_company_candidate_df is None:\n",
    "        all_company_candidate_df = company_candidate_df.copy()\n",
    "    else:\n",
    "        all_company_candidate_df = all_company_candidate_df.append(company_candidate_df)"
   ]
  },
  {
   "cell_type": "markdown",
   "metadata": {},
   "source": [
    "### 4.2 Data Pre-Processing"
   ]
  },
  {
   "cell_type": "code",
   "execution_count": null,
   "metadata": {},
   "outputs": [],
   "source": [
    "for company in data_df['company_code'].unique():\n",
    "    company_candidate_df = all_company_candidate_df[all_company_candidate_df['company_code'] == company]\n",
    "    multi_period_candidate_indexes = list(company_candidate_df.index[company_candidate_df['category'].str.contains(',')])\n",
    "    \n",
    "    for candidate_index in multi_period_candidate_indexes:\n",
    "        tmp_df = company_candidate_df.iloc[candidate_index]\n",
    "        draw_dates = tmp_df['draw_date'].split(',')\n",
    "        categories = tmp_df['category'].split(',')\n",
    "\n",
    "        # Distribute numbers occurred on multiple periods to new rows\n",
    "        # e.g. 8152 appeared at 2019-07-03 and 2019-07-27\n",
    "        for index, draw_date in enumerate(draw_dates):\n",
    "            company_candidate_df = company_candidate_df.append({\n",
    "                'number': tmp_df['number'],\n",
    "                'pattern': tmp_df['pattern'],\n",
    "                'group_4': tmp_df['group_4'],\n",
    "                'group_3': tmp_df['group_3'],\n",
    "                'group_2': tmp_df['group_2'],\n",
    "                'group_1': tmp_df['group_1'],\n",
    "                'odd_even': tmp_df['odd_even'],\n",
    "                'big_small': tmp_df['big_small'],\n",
    "                'category': categories[index].strip(),\n",
    "                'draw_date': draw_date.strip(),\n",
    "                'company_code': company\n",
    "            }, ignore_index=True)\n",
    "\n",
    "    # Remove rows with aggregated periods\n",
    "    company_candidate_df = company_candidate_df.drop(multi_period_candidate_indexes)\n",
    "    company_candidate_df = company_candidate_df.sort_values(by=['number', 'draw_date'])\n",
    "    \n",
    "    all_company_candidate_df = all_company_candidate_df[all_company_candidate_df['company_code'] != company]\n",
    "    all_company_candidate_df = all_company_candidate_df.append(company_candidate_df)\n",
    "    \n",
    "    out_file = f'resources/output/{company}_candidates_accurancy_preprocessed.csv'\n",
    "    company_candidate_df.to_csv(out_file, sep=';', index=None, header=True)"
   ]
  },
  {
   "cell_type": "markdown",
   "metadata": {},
   "source": [
    "# 5. Accuracy Calculation"
   ]
  },
  {
   "cell_type": "code",
   "execution_count": null,
   "metadata": {},
   "outputs": [],
   "source": [
    "def calculateAccuracy():\n",
    "    accuracy_dict = dict()\n",
    "\n",
    "    for company in data_df['company_code'].unique():\n",
    "        company_candidate_df = all_company_candidate_df[all_company_candidate_df['company_code'] == company]\n",
    "\n",
    "        matched_results = []\n",
    "        total_price_count = 23\n",
    "        total_candidate_count = company_candidate_df.groupby('number').count()['draw_date'].count()\n",
    "\n",
    "        dates = data_df['draw_date'].unique()\n",
    "        for date in dates:\n",
    "            tmp_df = company_candidate_df[(company_candidate_df['category'] != '') &\n",
    "                                          (company_candidate_df['draw_date'] == date)]\n",
    "            matched_count = tmp_df.count()['number']\n",
    "\n",
    "            matched_results.append({\n",
    "                date: {\n",
    "                    'match_count': matched_count,\n",
    "                    'match_price_percent': round(matched_count / total_price_count, 4) * 100,\n",
    "                    'match_number_percent': round(matched_count / total_candidate_count, 4) * 100,\n",
    "                    'first_count': tmp_df[tmp_df['category'] == '1st'].count()['number'],\n",
    "                    'second_count': tmp_df[tmp_df['category'] == '2nd'].count()['number'],\n",
    "                    'third_count': tmp_df[tmp_df['category'] == '3rd'].count()['number'],\n",
    "                    'special_count': tmp_df[tmp_df['category'] == 'Special'].count()['number'],\n",
    "                    'consolation_count': tmp_df[tmp_df['category'] == 'Consolation'].count()['number'],\n",
    "                }\n",
    "            })\n",
    "\n",
    "        matched_results = sorted(matched_results, key=lambda x: list(x.keys())[0], reverse=False)\n",
    "        accuracy_dict[f'{company}_matched_results'] = matched_results\n",
    "        accuracy_dict[f'{company}_candidate_count'] = total_candidate_count\n",
    "        \n",
    "    return accuracy_dict"
   ]
  },
  {
   "cell_type": "code",
   "execution_count": null,
   "metadata": {},
   "outputs": [],
   "source": [
    "accuracy_dict = calculateAccuracy()"
   ]
  },
  {
   "cell_type": "markdown",
   "metadata": {},
   "source": [
    "# 6. Accuracy Visualization"
   ]
  },
  {
   "cell_type": "code",
   "execution_count": null,
   "metadata": {},
   "outputs": [],
   "source": [
    "for company in data_df['company_code'].unique():\n",
    "    matched_results = accuracy_dict[f'{company}_matched_results']\n",
    "    total_candidate_count = accuracy_dict[f'{company}_candidate_count']\n",
    "    dates = [dt.strptime(list(matched_result.keys())[0], '%Y-%m-%d') for matched_result in matched_results]\n",
    "    match_price_percent_list = [list(matched_result.values())[0]['match_price_percent'] for matched_result in matched_results]\n",
    "    match_number_percent_list = [list(matched_result.values())[0]['match_number_percent'] for matched_result in matched_results]\n",
    "    \n",
    "    colors = itertools.cycle(Set1[9])\n",
    "    fig = figure(title=f'{company.title()} - Accuracy of {total_candidate_count} Candidates',\n",
    "                 x_axis_type='datetime',\n",
    "                 x_axis_label='Dates', y_axis_label='Accuracy (%)',\n",
    "                 width=950, height=500,\n",
    "                 toolbar_location='above')\n",
    "    \n",
    "    source = ColumnDataSource(data=dict(\n",
    "        dates=dates,\n",
    "        accuracy=match_price_percent_list,\n",
    "        fitness=match_number_percent_list,\n",
    "    ))\n",
    "    glyph1 = fig.line('dates', 'accuracy', color=next(colors), alpha=.8, source=source)\n",
    "    glyph2 = fig.line('dates', 'fitness', color=next(colors), alpha=.8, source=source)\n",
    "    \n",
    "    items = []\n",
    "    items.append(('Price Matched', [glyph1]))\n",
    "    items.append(('Fitness Rate', [glyph2]))\n",
    "    \n",
    "    fig.add_layout(Legend(items=items, location='bottom_left', orientation='horizontal', click_policy='hide'), 'below')\n",
    "    fig.add_tools(HoverTool(\n",
    "        tooltips = [\n",
    "            ('Date', '@dates{%F}'),\n",
    "            ('Accuracy', '@accuracy%'),\n",
    "            ('Fitness', '@fitness%'),\n",
    "        ],\n",
    "        formatters={\n",
    "            'dates': 'datetime',\n",
    "        },\n",
    "        mode='vline'\n",
    "    ))\n",
    "    show(fig)"
   ]
  },
  {
   "cell_type": "code",
   "execution_count": null,
   "metadata": {},
   "outputs": [],
   "source": [
    "for company in data_df['company_code'].unique():\n",
    "    matched_results = accuracy_dict[f'{company}_matched_results']\n",
    "    \n",
    "    dates = [dt.strptime(list(matched_result.keys())[0], '%Y-%m-%d') for matched_result in matched_results]\n",
    "    first_count_list = [list(matched_result.values())[0]['first_count'] for matched_result in matched_results]\n",
    "    second_count_list = [list(matched_result.values())[0]['second_count'] for matched_result in matched_results]\n",
    "    third_count_list = [list(matched_result.values())[0]['third_count'] for matched_result in matched_results]\n",
    "    special_count_list = [list(matched_result.values())[0]['special_count'] for matched_result in matched_results]\n",
    "    consolation_count_list = [list(matched_result.values())[0]['consolation_count'] for matched_result in matched_results]\n",
    "    match_count_list = [list(matched_result.values())[0]['match_count'] for matched_result in matched_results]\n",
    "    \n",
    "    colors = itertools.cycle(Category10[10])\n",
    "    fig = figure(title=f'{company.title()} - Accuracy of {total_candidate_count} Candidates',\n",
    "                 x_axis_type='datetime',\n",
    "                 x_axis_label='Dates', y_axis_label='Price Matched',\n",
    "                 width=950, height=500,\n",
    "                 toolbar_location='above')\n",
    "    \n",
    "    source = ColumnDataSource(data=dict(\n",
    "        dates=dates,\n",
    "        first_count_list=first_count_list,\n",
    "        second_count_list=second_count_list,\n",
    "        third_count_list=third_count_list,\n",
    "        special_count_list=special_count_list,\n",
    "        consolation_count_list=consolation_count_list,\n",
    "        match_count_list=match_count_list,\n",
    "    ))\n",
    "\n",
    "    glyph1 = fig.line('dates', 'first_count_list', color=next(colors), alpha=.8, source=source)\n",
    "    glyph2 = fig.line('dates', 'second_count_list', color=next(colors), alpha=.8, source=source)\n",
    "    glyph3 = fig.line('dates', 'third_count_list', color=next(colors), alpha=.8, source=source)\n",
    "    glyph4 = fig.line('dates', 'special_count_list', color=next(colors), alpha=.8, source=source)\n",
    "    glyph5 = fig.line('dates', 'consolation_count_list', color=next(colors), alpha=.8, source=source)\n",
    "    glyph6 = fig.line('dates', 'match_count_list', color=next(colors), alpha=.8, source=source)\n",
    "    \n",
    "    items = []\n",
    "    items.append(('1st', [glyph1]))\n",
    "    items.append(('2nd', [glyph2]))\n",
    "    items.append(('3rd', [glyph3]))\n",
    "    items.append(('Special', [glyph4]))\n",
    "    items.append(('Consolation', [glyph5]))\n",
    "    items.append(('Total', [glyph6]))\n",
    "    \n",
    "    fig.add_layout(Legend(items=items, location='bottom_left', orientation='horizontal', click_policy='hide'), 'below')\n",
    "    fig.add_tools(HoverTool(\n",
    "        tooltips = [\n",
    "            ('Date', '@dates{%F}'),\n",
    "            ('1st', '@first_count_list'),\n",
    "            ('2nd', '@second_count_list'),\n",
    "            ('3rd', '@third_count_list'),\n",
    "            ('Special', '@special_count_list'),\n",
    "            ('Consolation', '@consolation_count_list'),\n",
    "            ('Total', '@match_count_list'),\n",
    "        ],\n",
    "        formatters={\n",
    "            'dates': 'datetime',\n",
    "        },\n",
    "        mode='vline'\n",
    "    ))\n",
    "    show(fig)"
   ]
  },
  {
   "cell_type": "code",
   "execution_count": null,
   "metadata": {},
   "outputs": [],
   "source": []
  }
 ],
 "metadata": {
  "kernelspec": {
   "display_name": "Python 3",
   "language": "python",
   "name": "python3"
  },
  "language_info": {
   "codemirror_mode": {
    "name": "ipython",
    "version": 3
   },
   "file_extension": ".py",
   "mimetype": "text/x-python",
   "name": "python",
   "nbconvert_exporter": "python",
   "pygments_lexer": "ipython3",
   "version": "3.7.3"
  }
 },
 "nbformat": 4,
 "nbformat_minor": 2
}
