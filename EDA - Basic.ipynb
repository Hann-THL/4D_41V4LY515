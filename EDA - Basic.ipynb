{
 "cells": [
  {
   "cell_type": "code",
   "execution_count": null,
   "metadata": {},
   "outputs": [],
   "source": [
    "import lib._util.visualplot as vp\n",
    "import lib._util.fileproc as fp"
   ]
  },
  {
   "cell_type": "code",
   "execution_count": null,
   "metadata": {},
   "outputs": [],
   "source": [
    "import pandas as pd\n",
    "pd.set_option('display.max_columns', 100)\n",
    "\n",
    "import category_encoders as ce\n",
    "\n",
    "# Plotly\n",
    "import plotly.express as px\n",
    "import plotly.graph_objects as go\n",
    "\n",
    "# Time measurement\n",
    "import time\n",
    "from datetime import timedelta, datetime\n",
    "\n",
    "# Sound notification\n",
    "import winsound"
   ]
  },
  {
   "cell_type": "markdown",
   "metadata": {},
   "source": [
    "# Useful Functions"
   ]
  },
  {
   "cell_type": "code",
   "execution_count": null,
   "metadata": {},
   "outputs": [],
   "source": [
    "SOURCE_PATH_DATA = 'resources/data/'\n",
    "OUT_PATH_GRAPH   = 'resources/output/eda_basic/graph/'\n",
    "OUT_PATH_FILE    = 'resources/output/eda_basic/file/'"
   ]
  },
  {
   "cell_type": "code",
   "execution_count": null,
   "metadata": {},
   "outputs": [],
   "source": [
    "def time_taken(seconds):\n",
    "    print(f'\\nTime Taken: {str(timedelta(seconds=seconds))}')\n",
    "    winsound.Beep(frequency=1000, duration=100)\n",
    "    winsound.Beep(frequency=1500, duration=50)\n",
    "\n",
    "def smart_title(text, sep=' '):\n",
    "    return ' '.join(x if x.isupper() else x.title() for x in text.split(sep))"
   ]
  },
  {
   "cell_type": "markdown",
   "metadata": {},
   "source": [
    "# Phase 1 - EDA\n",
    "- Number features"
   ]
  },
  {
   "cell_type": "markdown",
   "metadata": {},
   "source": [
    "###### Number Characteristic"
   ]
  },
  {
   "cell_type": "code",
   "execution_count": null,
   "metadata": {},
   "outputs": [],
   "source": [
    "def load_categories():\n",
    "    source_file = f'{SOURCE_PATH_DATA}number_category.csv'\n",
    "    df          = pd.read_csv(source_file, sep=';', dtype={'number': str})\n",
    "    \n",
    "    return df"
   ]
  },
  {
   "cell_type": "code",
   "execution_count": null,
   "metadata": {},
   "outputs": [],
   "source": [
    "df = load_categories()\n",
    "\n",
    "vp.faststat(df)"
   ]
  },
  {
   "cell_type": "code",
   "execution_count": null,
   "metadata": {},
   "outputs": [],
   "source": [
    "vp.histogram(df,\n",
    "             bin_algo='count',\n",
    "             title='Phase 1 - Histogram - Number Characteristic',\n",
    "             out_path=f'{OUT_PATH_GRAPH}',\n",
    "             max_col=4)"
   ]
  },
  {
   "cell_type": "markdown",
   "metadata": {},
   "source": [
    "###### Number Binary Cluster"
   ]
  },
  {
   "cell_type": "code",
   "execution_count": null,
   "metadata": {},
   "outputs": [],
   "source": [
    "# Reference: https://www.youtube.com/watch?v=kVgP_UpBXqM\n",
    "def binary_cluster():\n",
    "    # Clustering on 1 - 9999\n",
    "    df = pd.DataFrame([str(x).zfill(4) for x in range(1, 10000)], columns=['number'])\n",
    "    df = pd.concat([\n",
    "        df,\n",
    "        ce.BinaryEncoder().fit_transform(df['number'])\n",
    "    ], axis=1)\n",
    "    \n",
    "    # Rename columns\n",
    "    columns     = [x for x in df.columns if x.startswith('number_')]\n",
    "    count       = len(columns)\n",
    "    rename_dict = {x: x.replace(f'number_{i}', f'binary_CL{count - i}') for i,x in enumerate(columns)}\n",
    "    df.rename(columns=rename_dict, inplace=True)\n",
    "    \n",
    "    # Remove non-informative cluster\n",
    "    last_cluster = f'binary_CL{count}'\n",
    "    if len(df[last_cluster].unique()) == 1:\n",
    "        df.drop(columns=[last_cluster], inplace=True)\n",
    "        \n",
    "    # Clustering on 0\n",
    "    zero_df = pd.DataFrame({x: ['0000'] if x == 'number' else [0] for x in df.columns})\n",
    "    df = pd.concat([zero_df, df])\n",
    "    \n",
    "    return df"
   ]
  },
  {
   "cell_type": "code",
   "execution_count": null,
   "metadata": {},
   "outputs": [],
   "source": [
    "df = binary_cluster()\n",
    "\n",
    "vp.faststat(df)"
   ]
  },
  {
   "cell_type": "code",
   "execution_count": null,
   "metadata": {},
   "outputs": [],
   "source": [
    "# Split number to X & Y axis\n",
    "df['left_digits']  = df['number'].str.slice(stop=2)\n",
    "df['right_digits'] = df['number'].str.slice(start=2, stop=4)"
   ]
  },
  {
   "cell_type": "code",
   "execution_count": null,
   "metadata": {},
   "outputs": [],
   "source": [
    "def cluster_heatmap(df, title, max_col=1,\n",
    "                    heatmap_kwargs={}, layout_kwargs={}, to_image=True):\n",
    "    \n",
    "    data_groups = []\n",
    "    columns     = [x for x in df.columns if x not in ['number', 'left_digits', 'right_digits']]\n",
    "    \n",
    "    for column in columns:\n",
    "        column_label = smart_title(column, sep='_')\n",
    "        heatmap_kwargs['text']      = 'Number: ' + df['number'] + f'<br>{column_label}: ' + df[column].astype(str)\n",
    "        heatmap_kwargs['hoverinfo'] = 'text'\n",
    "\n",
    "        data=go.Heatmap(\n",
    "            x=df['left_digits'],\n",
    "            y=df['right_digits'],\n",
    "            z=df[column].values,\n",
    "            **heatmap_kwargs\n",
    "        )\n",
    "        fig = go.Figure(data=data)\n",
    "        data_groups.append(fig['data'])\n",
    "        \n",
    "    vp.datagroups_subplots(\n",
    "        data_groups,\n",
    "        max_col=max_col,\n",
    "        title=title,\n",
    "        subplot_titles=columns,\n",
    "        out_path=OUT_PATH_GRAPH,\n",
    "        layout_kwargs=layout_kwargs,\n",
    "        to_image=to_image\n",
    "    )"
   ]
  },
  {
   "cell_type": "code",
   "execution_count": null,
   "metadata": {},
   "outputs": [],
   "source": [
    "cluster_heatmap(df,\n",
    "                title=f'Phase 1 - Heatmap - Binary Cluster',\n",
    "                max_col=5,\n",
    "                heatmap_kwargs={\n",
    "                    'colorscale': 'RdYlGn',\n",
    "                    'showscale': False\n",
    "                },\n",
    "                layout_kwargs={'height': 1000},\n",
    "                to_image=False)"
   ]
  },
  {
   "cell_type": "markdown",
   "metadata": {},
   "source": [
    "###### Number Breakdown Cluster"
   ]
  },
  {
   "cell_type": "code",
   "execution_count": null,
   "metadata": {},
   "outputs": [],
   "source": [
    "# Reference: https://youtu.be/KQv0lEaDGco?t=117\n",
    "def breakdown_cluster():\n",
    "    df = pd.DataFrame([str(x).zfill(4) for x in range(10000)], columns=['number'])\n",
    "    df['breakdown_CL'] = df['number'].apply(lambda x: [int(c) for c in x]).apply(lambda x: sum(x))\n",
    "    \n",
    "    while df['breakdown_CL'].max() > 9:\n",
    "        df['breakdown_CL'] = df['breakdown_CL'].astype(str).apply(lambda x: [int(c) for c in x]).apply(lambda x: sum(x))\n",
    "        \n",
    "    return df"
   ]
  },
  {
   "cell_type": "code",
   "execution_count": null,
   "metadata": {},
   "outputs": [],
   "source": [
    "df = breakdown_cluster()\n",
    "\n",
    "vp.faststat(df)"
   ]
  },
  {
   "cell_type": "code",
   "execution_count": null,
   "metadata": {},
   "outputs": [],
   "source": [
    "# Split number to X & Y axis\n",
    "df['left_digits']  = df['number'].str.slice(stop=2)\n",
    "df['right_digits'] = df['number'].str.slice(start=2, stop=4)"
   ]
  },
  {
   "cell_type": "code",
   "execution_count": null,
   "metadata": {},
   "outputs": [],
   "source": [
    "cluster_heatmap(df,\n",
    "                title=f'Phase 1 - Heatmap - Breakdown Cluster',\n",
    "                heatmap_kwargs={'colorscale': 'RdYlGn'},\n",
    "                to_image=False)"
   ]
  },
  {
   "cell_type": "markdown",
   "metadata": {},
   "source": [
    "# Phase 2 - EDA\n",
    "- Draw dates"
   ]
  },
  {
   "cell_type": "code",
   "execution_count": null,
   "metadata": {},
   "outputs": [],
   "source": [
    "def load_dates():\n",
    "    source_file = f'{SOURCE_PATH_DATA}4D_dates.csv'\n",
    "    df          = pd.read_csv(source_file, sep=';',\n",
    "                              parse_dates=['draw_date'],\n",
    "                              date_parser=lambda x: pd.to_datetime(x, format='%Y-%m-%d'),)\n",
    "    \n",
    "    return df"
   ]
  },
  {
   "cell_type": "code",
   "execution_count": null,
   "metadata": {},
   "outputs": [],
   "source": [
    "df = load_dates()\n",
    "\n",
    "vp.faststat(df)"
   ]
  },
  {
   "cell_type": "code",
   "execution_count": null,
   "metadata": {},
   "outputs": [],
   "source": [
    "vp.histogram(df,\n",
    "             bin_algo='count',\n",
    "             title='Phase 2 - Histogram - Draw Date',\n",
    "             out_path=f'{OUT_PATH_GRAPH}')"
   ]
  },
  {
   "cell_type": "code",
   "execution_count": null,
   "metadata": {},
   "outputs": [],
   "source": [
    "df['year_month'] = df['draw_date'].dt.to_period('M').astype(str)\n",
    "\n",
    "tmp_df = df.groupby(['company_code', 'year_month']).agg(\n",
    "    count=('draw_date', 'count')\n",
    ").reset_index()\n",
    "\n",
    "fig = px.bar(tmp_df, x='year_month', y='count', facet_row='company_code')\n",
    "vp.generate_plot(fig,\n",
    "                 out_path=OUT_PATH_GRAPH,\n",
    "                 out_filename='Phase 2 - Histogram - Draw Date (Company)')\n",
    "\n",
    "del tmp_df"
   ]
  },
  {
   "cell_type": "code",
   "execution_count": null,
   "metadata": {},
   "outputs": [],
   "source": []
  }
 ],
 "metadata": {
  "kernelspec": {
   "display_name": "Python 3",
   "language": "python",
   "name": "python3"
  },
  "language_info": {
   "codemirror_mode": {
    "name": "ipython",
    "version": 3
   },
   "file_extension": ".py",
   "mimetype": "text/x-python",
   "name": "python",
   "nbconvert_exporter": "python",
   "pygments_lexer": "ipython3",
   "version": "3.7.4"
  }
 },
 "nbformat": 4,
 "nbformat_minor": 2
}
