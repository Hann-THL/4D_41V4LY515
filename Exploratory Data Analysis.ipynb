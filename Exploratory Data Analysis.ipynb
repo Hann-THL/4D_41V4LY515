{
 "cells": [
  {
   "cell_type": "code",
   "execution_count": null,
   "metadata": {},
   "outputs": [],
   "source": [
    "import lib._util.visualplot as vp\n",
    "import lib._util.fileproc as fp"
   ]
  },
  {
   "cell_type": "code",
   "execution_count": null,
   "metadata": {},
   "outputs": [],
   "source": [
    "import pandas as pd\n",
    "pd.set_option('display.max_columns', None)\n",
    "\n",
    "import numpy as np\n",
    "import copy\n",
    "import glob\n",
    "\n",
    "# Plotly\n",
    "import plotly.express as px\n",
    "\n",
    "# Time measurement\n",
    "import time\n",
    "from datetime import timedelta, datetime\n",
    "\n",
    "# Sound notification\n",
    "import winsound"
   ]
  },
  {
   "cell_type": "markdown",
   "metadata": {},
   "source": [
    "# Useful Functions"
   ]
  },
  {
   "cell_type": "code",
   "execution_count": null,
   "metadata": {},
   "outputs": [],
   "source": [
    "SOURCE_PATH_DATA = 'resources/data/'\n",
    "OUT_PATH_GRAPH   = 'resources/output/eda/graph/'\n",
    "OUT_PATH_FILE    = 'resources/output/eda/file/'"
   ]
  },
  {
   "cell_type": "code",
   "execution_count": null,
   "metadata": {},
   "outputs": [],
   "source": [
    "def time_taken(seconds):\n",
    "    print(f'\\nTime Taken: {str(timedelta(seconds=seconds))}')\n",
    "    winsound.Beep(frequency=1000, duration=100)\n",
    "    winsound.Beep(frequency=1500, duration=50)"
   ]
  },
  {
   "cell_type": "markdown",
   "metadata": {},
   "source": [
    "# Phase 1 - Data Loading\n",
    "- Load number categories"
   ]
  },
  {
   "cell_type": "code",
   "execution_count": null,
   "metadata": {},
   "outputs": [],
   "source": [
    "def load_categories():\n",
    "    source_file = f'{SOURCE_PATH_DATA}number_category.csv'\n",
    "    df          = pd.read_csv(source_file, sep=';', dtype={'number': str})\n",
    "    \n",
    "    return df"
   ]
  },
  {
   "cell_type": "code",
   "execution_count": null,
   "metadata": {},
   "outputs": [],
   "source": [
    "df = load_categories()\n",
    "\n",
    "vp.faststat(df)"
   ]
  },
  {
   "cell_type": "code",
   "execution_count": null,
   "metadata": {},
   "outputs": [],
   "source": [
    "vp.histogram(df,\n",
    "             bin_algo='count',\n",
    "             title='Phase 1 - Histogram - Number Category',\n",
    "             out_path=f'{OUT_PATH_GRAPH}',\n",
    "             max_col=4)"
   ]
  },
  {
   "cell_type": "markdown",
   "metadata": {},
   "source": [
    "# Phase 2 - Data Loading\n",
    "- Load draw dates"
   ]
  },
  {
   "cell_type": "code",
   "execution_count": null,
   "metadata": {},
   "outputs": [],
   "source": [
    "def load_dates():\n",
    "    source_file = f'{SOURCE_PATH_DATA}4D_dates.csv'\n",
    "    df          = pd.read_csv(source_file, sep=';',\n",
    "                              parse_dates=['draw_date'],\n",
    "                              date_parser=lambda x: pd.to_datetime(x, format='%Y-%m-%d'),)\n",
    "    \n",
    "    return df"
   ]
  },
  {
   "cell_type": "code",
   "execution_count": null,
   "metadata": {},
   "outputs": [],
   "source": [
    "df = load_dates()\n",
    "\n",
    "vp.faststat(df)"
   ]
  },
  {
   "cell_type": "code",
   "execution_count": null,
   "metadata": {},
   "outputs": [],
   "source": [
    "vp.histogram(df,\n",
    "             bin_algo='count',\n",
    "             title='Phase 2 - Histogram - Draw Dates',\n",
    "             out_path=f'{OUT_PATH_GRAPH}')"
   ]
  },
  {
   "cell_type": "code",
   "execution_count": null,
   "metadata": {},
   "outputs": [],
   "source": [
    "df['year_month'] = df['draw_date'].dt.to_period('M').astype(str)\n",
    "\n",
    "tmp_df = df.groupby(['company_code', 'year_month']).agg(\n",
    "    count=('draw_date', 'count')\n",
    ").reset_index()\n",
    "\n",
    "fig = px.bar(tmp_df, x='year_month', y='count', facet_row='company_code')\n",
    "vp.generate_plot(fig,\n",
    "                 out_path=OUT_PATH_GRAPH,\n",
    "                 out_filename='Phase 2 - Histogram - Company Draw Dates')\n",
    "\n",
    "del tmp_df"
   ]
  },
  {
   "cell_type": "markdown",
   "metadata": {},
   "source": [
    "# Phase 3 - Data Loading\n",
    "- Load timeseries result"
   ]
  },
  {
   "cell_type": "code",
   "execution_count": null,
   "metadata": {},
   "outputs": [],
   "source": [
    "def load_data(filename):\n",
    "    source_file = f'{SOURCE_PATH_DATA}{filename}'\n",
    "    df_chunks   = pd.read_csv(source_file, sep=';',\n",
    "                              dtype={'number': str},\n",
    "                              parse_dates=['draw_date'],\n",
    "                              date_parser=lambda x: pd.to_datetime(x, format='%Y-%m-%d'),\n",
    "                              chunksize=50_000)\n",
    "    df = pd.concat(df_chunks)\n",
    "    \n",
    "    # Separate by company\n",
    "    df_dict = dict()\n",
    "    for company in df['company_code'].unique():\n",
    "        df_dict[company] = df[df['company_code'] == company].copy()\n",
    "    \n",
    "    return df_dict"
   ]
  },
  {
   "cell_type": "code",
   "execution_count": null,
   "metadata": {},
   "outputs": [],
   "source": [
    "df_dict = load_data('trainset.csv')\n",
    "print(df_dict.keys())"
   ]
  },
  {
   "cell_type": "code",
   "execution_count": null,
   "metadata": {},
   "outputs": [],
   "source": [
    "def faststat(df_dict):\n",
    "    for key, df in df_dict.items():\n",
    "        print(key)\n",
    "        vp.faststat(df)\n",
    "        print()"
   ]
  },
  {
   "cell_type": "code",
   "execution_count": null,
   "metadata": {},
   "outputs": [],
   "source": [
    "faststat(df_dict)"
   ]
  },
  {
   "cell_type": "code",
   "execution_count": null,
   "metadata": {},
   "outputs": [],
   "source": [
    "def histogram(df_dict, title, columns=None,\n",
    "              max_col=2, layout_kwargs={}, to_image=True):\n",
    "    \n",
    "    for key, df in df_dict.items():\n",
    "        columns = df.columns if columns is None else columns\n",
    "        vp.histogram(df[columns],\n",
    "                     bin_algo='count',\n",
    "                     title=f'{key} - {title}',\n",
    "                     out_path=f'{OUT_PATH_GRAPH}{key}/',\n",
    "                     max_col=max_col,\n",
    "                     layout_kwargs=layout_kwargs,\n",
    "                     to_image=to_image)"
   ]
  },
  {
   "cell_type": "code",
   "execution_count": null,
   "metadata": {},
   "outputs": [],
   "source": [
    "histogram(df_dict,\n",
    "          title='Phase 3 - Histogram',\n",
    "          max_col=3)"
   ]
  },
  {
   "cell_type": "markdown",
   "metadata": {},
   "source": [
    "# Phase 4 - Data Preparation\n",
    "- Drop non-informative field\n",
    "- Handle invalid position"
   ]
  },
  {
   "cell_type": "code",
   "execution_count": null,
   "metadata": {},
   "outputs": [],
   "source": [
    "for key, df in df_dict.items():\n",
    "    # Drop company column\n",
    "    df.drop(columns=['company_code'], inplace=True)\n",
    "    \n",
    "    # Remove invalid number\n",
    "    df = df[df['number'] != '----'].reset_index(drop=True).copy()\n",
    "    \n",
    "    df_dict[key] = df\n",
    "    del df"
   ]
  },
  {
   "cell_type": "code",
   "execution_count": null,
   "metadata": {},
   "outputs": [],
   "source": [
    "# Handle invalid position on DMC due to duplication\n",
    "tmp_df = df_dict['DMC'].copy()\n",
    "tmp_df = tmp_df[tmp_df['position'] <= 10].reset_index(drop=True)\n",
    "df_dict['DMC'] = tmp_df.copy()\n",
    "\n",
    "del tmp_df"
   ]
  },
  {
   "cell_type": "code",
   "execution_count": null,
   "metadata": {},
   "outputs": [],
   "source": [
    "histogram(df_dict,\n",
    "          title='Phase 4 - Histogram')"
   ]
  },
  {
   "cell_type": "markdown",
   "metadata": {},
   "source": [
    "# Phase 5 - Feature Engineering\n",
    "- Populate number, price & period features"
   ]
  },
  {
   "cell_type": "code",
   "execution_count": null,
   "metadata": {},
   "outputs": [],
   "source": [
    "def number_feature(df_dict):\n",
    "    # Load feature data\n",
    "    feature_df  = load_categories()\n",
    "    rename_dict = {x: x.replace('group', 'digit') for x in feature_df.columns if x.startswith('group_')}\n",
    "    feature_df.rename(columns=rename_dict, inplace=True)\n",
    "    \n",
    "    for column in rename_dict.values():\n",
    "        feature_df[column] = feature_df[column].str.replace('*', '')\n",
    "    \n",
    "    newdf_dict = copy.deepcopy(df_dict)\n",
    "    for key, df in newdf_dict.items():\n",
    "        df = df.merge(feature_df, on='number', how='left')\n",
    "        newdf_dict[key] = df\n",
    "    \n",
    "    return newdf_dict\n",
    "\n",
    "def price_feature(df_dict):\n",
    "    # Reference: https://www.magnum4d.my/en/4d-game\n",
    "    price_dict = {\n",
    "        'FST': 2500,\n",
    "        'SCD': 1000,\n",
    "        'TRD': 500,\n",
    "        'SP':  180,\n",
    "        'CONS': 60\n",
    "    }\n",
    "    \n",
    "    newdf_dict = copy.deepcopy(df_dict)\n",
    "    for key, df in newdf_dict.items():\n",
    "        df['price'] = df['category'].map(price_dict)\n",
    "    return newdf_dict\n",
    "\n",
    "def period_feature(df_dict):\n",
    "    # Load feature data\n",
    "    period_df = load_dates()\n",
    "    \n",
    "    newdf_dict = copy.deepcopy(df_dict)\n",
    "    for key, df in newdf_dict.items():\n",
    "        tmp_df = period_df[period_df['company_code'] == key].reset_index(drop=True)\n",
    "        tmp_df.sort_values(by='draw_date', inplace=True)\n",
    "        tmp_df['draw_period'] = tmp_df.index + 1\n",
    "        \n",
    "        df = df.merge(tmp_df[['draw_date', 'draw_period']], on='draw_date', how='left')\n",
    "        newdf_dict[key] = df\n",
    "    \n",
    "    return newdf_dict"
   ]
  },
  {
   "cell_type": "code",
   "execution_count": null,
   "metadata": {},
   "outputs": [],
   "source": [
    "df_dict = number_feature(df_dict)\n",
    "df_dict = price_feature(df_dict)\n",
    "df_dict = period_feature(df_dict)"
   ]
  },
  {
   "cell_type": "code",
   "execution_count": null,
   "metadata": {},
   "outputs": [],
   "source": [
    "faststat(df_dict)"
   ]
  },
  {
   "cell_type": "code",
   "execution_count": null,
   "metadata": {},
   "outputs": [],
   "source": [
    "histogram(df_dict,\n",
    "          title='Phase 5 - Histogram',\n",
    "          columns=['pattern', 'digit_4', 'digit_3', 'digit_2', 'digit_1', 'odd_even', 'big_small', 'price'],\n",
    "          max_col=2,\n",
    "          layout_kwargs={'height': 1000})"
   ]
  },
  {
   "cell_type": "markdown",
   "metadata": {},
   "source": [
    "# Phase 6 - Data Preparation\n",
    "- Convert to transactional format"
   ]
  },
  {
   "cell_type": "code",
   "execution_count": null,
   "metadata": {},
   "outputs": [],
   "source": [
    "def to_transaction(df_dict, trans_value):\n",
    "    transdf_dict = {}\n",
    "    \n",
    "    for key, df in df_dict.items():\n",
    "        count_df = df.groupby('draw_date').agg(\n",
    "            count=(trans_value, 'count')\n",
    "        ).reset_index()\n",
    "        \n",
    "        count   = count_df['count'].min()\n",
    "        columns = ['1st', '2nd', '3rd'] + [f'Sp{x +1}' for x in range(10)] + [f'Cons{x +1}' for x in range(10)]\n",
    "        assert count == len(columns), f'{key} - having invalid count'\n",
    "        \n",
    "        # Map draw date\n",
    "        trans_df = pd.DataFrame(df[trans_value].values.reshape(-1, count), columns=columns)\n",
    "        trans_df.index = df['draw_date'].unique()\n",
    "        trans_df.reset_index(inplace=True)\n",
    "        trans_df.rename(columns={'index': 'draw_date'}, inplace=True)\n",
    "        \n",
    "        # Map draw period\n",
    "        period_df = df.groupby('draw_date').agg(\n",
    "            draw_period=('draw_period', 'max')\n",
    "        ).reset_index()\n",
    "        trans_df = trans_df.merge(period_df, on='draw_date', how='left')\n",
    "        \n",
    "        # Re-order columns\n",
    "        date_columns   = ['draw_date', 'draw_period']\n",
    "        remain_columns = [x for x in trans_df.columns if x not in date_columns]\n",
    "        trans_df       = pd.concat([trans_df[date_columns], trans_df[remain_columns]], axis=1)\n",
    "        \n",
    "        transdf_dict[key] = trans_df\n",
    "    \n",
    "    return transdf_dict"
   ]
  },
  {
   "cell_type": "code",
   "execution_count": null,
   "metadata": {
    "scrolled": true
   },
   "outputs": [],
   "source": [
    "# Number transaction\n",
    "transdf_dict = to_transaction(df_dict, trans_value='number')\n",
    "\n",
    "faststat(transdf_dict)"
   ]
  },
  {
   "cell_type": "code",
   "execution_count": null,
   "metadata": {},
   "outputs": [],
   "source": [
    "def transaction_heatmap(df_dict, title,\n",
    "                        heatmap_kwargs={}, layout_kwargs={}, to_image=True):\n",
    "    \n",
    "    for key, df in df_dict.items():\n",
    "        tmp_df     = df.copy()\n",
    "        categories = ['1st', '2nd', '3rd'] + [f'Sp{x +1}' for x in range(10)] + [f'Cons{x +1}' for x in range(10)]\n",
    "        \n",
    "        # Split number to digits\n",
    "        for category in categories:\n",
    "            tmp_df[category] = tmp_df[category].apply(lambda x: [int(c) for c in x])\n",
    "        \n",
    "        # Heatmap for each digits\n",
    "        category_dict = {\n",
    "            0: 'Digit 4',\n",
    "            1: 'Digit 3',\n",
    "            2: 'Digit 2',\n",
    "            3: 'Digit 1'\n",
    "        }\n",
    "        for digit_key, digit_value in category_dict.items():\n",
    "            vp.heatmap(\n",
    "                x=categories,\n",
    "                y=df['draw_period'],\n",
    "                z=df[categories].apply(lambda x: list(map(lambda y: y[digit_key], x))).values,\n",
    "                title=f'{key} - {title} - {digit_value}',\n",
    "                out_path=f'{OUT_PATH_GRAPH}{key}/',\n",
    "                layout_kwargs=layout_kwargs,\n",
    "                to_image=to_image,\n",
    "                heatmap_kwargs=heatmap_kwargs\n",
    "            )\n",
    "        print()"
   ]
  },
  {
   "cell_type": "code",
   "execution_count": null,
   "metadata": {},
   "outputs": [],
   "source": [
    "transaction_heatmap(transdf_dict,\n",
    "                    title=f'Phase 6 - Heatmap - Transaction',\n",
    "                    heatmap_kwargs={'colorscale': 'RdYlGn'},\n",
    "                    to_image=False)"
   ]
  },
  {
   "cell_type": "markdown",
   "metadata": {},
   "source": [
    "# Phase 7 - RFM Analysis\n",
    "- Calculate recency, frequency and monetary values for lottery number\n",
    "- Assign RFM quantiles\n",
    "- Assign RFM segments\n",
    "- Calculate RFM scores\n",
    "- Assign RFM levels"
   ]
  },
  {
   "cell_type": "code",
   "execution_count": null,
   "metadata": {},
   "outputs": [],
   "source": [
    "def generate_rfm(df_dict, groupby, n_group=4):\n",
    "    newdf_dict = copy.deepcopy(df_dict)\n",
    "    for key, df in newdf_dict.items():\n",
    "        # Calculate RFM values\n",
    "        df = rfm_value(df, groupby)\n",
    "        \n",
    "        # Assign RFM quantiles\n",
    "        df = rfm_quantitle(df, 'recency', n_group=n_group, inverse=True)\n",
    "        df = rfm_quantitle(df, 'frequency', n_group=n_group)\n",
    "        df = rfm_quantitle(df, 'monetary', n_group=n_group)\n",
    "        \n",
    "        # Assign RFM segments\n",
    "        df = rfm_segment(df)\n",
    "        \n",
    "        # Calculate RFM scores\n",
    "        df = rfm_score(df)\n",
    "        \n",
    "        # Assign RFM levels\n",
    "        # df = rfm_level(df)\n",
    "        \n",
    "        newdf_dict[key] = df\n",
    "    \n",
    "    return newdf_dict\n",
    "\n",
    "def rfm_value(df, groupby, target_period=None):\n",
    "    if target_period is None:\n",
    "        target_period = df['draw_period'].max()\n",
    "\n",
    "    # Standard RFM\n",
    "    rfm_df = df.groupby(groupby).agg(\n",
    "        recency=('draw_period', lambda x: (target_period - x.max())),\n",
    "        frequency=('category', 'count'),\n",
    "        monetary=('price', 'sum')\n",
    "    ).reset_index()\n",
    "    \n",
    "    # Category Frequency\n",
    "    tmp_df = df.groupby([groupby, 'category']).agg(\n",
    "        frequency=('draw_period', 'count')\n",
    "    ).reset_index()\n",
    "    \n",
    "    freq_df = pd.DataFrame([str(x).zfill(4) for x in range(10000)], columns=['number'])\n",
    "    for category in df['category'].unique():\n",
    "        freq_df = freq_df.merge(tmp_df[tmp_df['category'] == category], on='number', how='left')\n",
    "        freq_df.drop(columns=['category'], inplace=True)\n",
    "\n",
    "        column = f'{category}_frequency'\n",
    "        freq_df.rename(columns={'frequency': column}, inplace=True)\n",
    "        freq_df[column] = freq_df[column].fillna(0).astype(int)\n",
    "        \n",
    "    rfm_df = rfm_df.merge(freq_df, on='number', how='left')\n",
    "    \n",
    "    # Average Monetary\n",
    "    rfm_df['avg_monetary'] = rfm_df['monetary'] / rfm_df['frequency']\n",
    "    rfm_df['avg_monetary'] = np.round(rfm_df['avg_monetary'], 2)\n",
    "    \n",
    "    return rfm_df\n",
    "\n",
    "def rfm_quantitle(df, column, n_group=4, inverse=False):\n",
    "    labels  = [x for x in range(n_group, 0, -1)] if inverse else [x for x in range(1, n_group +1)]\n",
    "    uniques = df[column].unique()\n",
    "\n",
    "    if len(uniques) == 1:\n",
    "        quantile_dict = {x: 1 for x in uniques}\n",
    "    else:\n",
    "        quantile_dict = dict(zip(uniques, pd.qcut(uniques, q=n_group, labels=labels)))\n",
    "    df[f'{column}_quantile'] = df[column].map(quantile_dict)\n",
    "    df[f'{column}_quantile'] = df[f'{column}_quantile'].astype(str)\n",
    "\n",
    "    return df\n",
    "\n",
    "def rfm_segment(df):\n",
    "    df['rfm_segment'] = df['recency_quantile'] + '_' + df['frequency_quantile'] + '_' + df['monetary_quantile']\n",
    "    return df\n",
    "\n",
    "def rfm_score(df):\n",
    "    df['rfm_score'] = df[['recency_quantile', 'frequency_quantile', 'monetary_quantile']].astype(int).sum(axis=1)\n",
    "    return df\n",
    "\n",
    "def rfm_level(df):\n",
    "    # Reference: https://towardsdatascience.com/recency-frequency-monetary-model-with-python-and-how-sephora-uses-it-to-optimize-their-google-d6a0707c5f17\n",
    "    df.loc[df['rfm_score'] <= 3, 'rfm_level'] = 'Activation Required (6)'\n",
    "\n",
    "    df.loc[(df['rfm_score'] <= 5) &\n",
    "           (df['rfm_level'].isna() == True), 'rfm_level'] = 'Needs Attention (5)'\n",
    "\n",
    "    df.loc[(df['rfm_score'] <= 7) &\n",
    "           (df['rfm_level'].isna() == True), 'rfm_level'] = 'Promising (4)'\n",
    "\n",
    "    df.loc[(df['rfm_score'] <= 9) &\n",
    "           (df['rfm_level'].isna() == True), 'rfm_level'] = 'Potential (3)'\n",
    "\n",
    "    df.loc[(df['rfm_score'] <= 11) &\n",
    "           (df['rfm_level'].isna() == True), 'rfm_level'] = 'Champions (2)'\n",
    "\n",
    "    df.loc[(df['rfm_score'] <= 12) &\n",
    "           (df['rfm_level'].isna() == True), 'rfm_level'] = 'Best of the Best (1)'\n",
    "\n",
    "    # Reference: https://www.optimove.com/resources/learning-center/rfm-segmentation\n",
    "    # RFM score: 8 - 9\n",
    "    df.loc[df['rfm_segment'].isin(['4_1_4', '4_1_3']), 'rfm_level'] = 'High Profit New Number (3)'\n",
    "    # RFM score: 7 - 9\n",
    "    df.loc[df['rfm_segment'].isin(['3_4_1', '3_3_1', '4_4_1', '4_3_1']), 'rfm_level'] = 'Lowest Profit Active Number (3.5)'\n",
    "    # RFM score: 7 - 9\n",
    "    df.loc[df['rfm_segment'].isin(['1_3_3', '1_3_4', '1_4_3', '1_4_4']), 'rfm_level'] = 'Best Number At Risk (3.5)'\n",
    "\n",
    "    return df"
   ]
  },
  {
   "cell_type": "code",
   "execution_count": null,
   "metadata": {},
   "outputs": [],
   "source": [
    "# Number RFM\n",
    "rfmdf_dict = generate_rfm(df_dict, groupby='number', n_group=10)\n",
    "\n",
    "faststat(rfmdf_dict)"
   ]
  },
  {
   "cell_type": "code",
   "execution_count": null,
   "metadata": {},
   "outputs": [],
   "source": [
    "histogram(rfmdf_dict,\n",
    "          title='Phase 7 - Histogram - Number RFM',\n",
    "          max_col=3,\n",
    "          layout_kwargs={'height': 1000})"
   ]
  },
  {
   "cell_type": "code",
   "execution_count": null,
   "metadata": {},
   "outputs": [],
   "source": [
    "def box(df_dict, title, color=None,\n",
    "        max_col=2, layout_kwargs={}, to_image=True):\n",
    "    \n",
    "    for key, df in df_dict.items():\n",
    "        vp.box(df,\n",
    "               color=color,\n",
    "               title=f'{key} - {title}',\n",
    "               out_path=f'{OUT_PATH_GRAPH}{key}/',\n",
    "               max_col=max_col,\n",
    "               layout_kwargs=layout_kwargs,\n",
    "               to_image=to_image)"
   ]
  },
  {
   "cell_type": "code",
   "execution_count": null,
   "metadata": {},
   "outputs": [],
   "source": [
    "box(rfmdf_dict,\n",
    "    title='Phase 7 - Box - Number RFM',\n",
    "    max_col=3)"
   ]
  },
  {
   "cell_type": "code",
   "execution_count": null,
   "metadata": {},
   "outputs": [],
   "source": [
    "def box_rfm(df_dict, title,\n",
    "            max_col=2, layout_kwargs={}, to_image=True):\n",
    "    \n",
    "    for key, df in df_dict.items():\n",
    "        fig1 = px.box(df, x='recency_quantile', y='recency')\n",
    "        fig2 = px.box(df, x='frequency_quantile', y='frequency')\n",
    "        fig3 = px.box(df, x='monetary_quantile', y='monetary')\n",
    "        \n",
    "        vp.datagroups_subplots(\n",
    "            data_groups=[fig1['data'], fig2['data'], fig3['data']],\n",
    "            xaxis_titles=['Recency Quantile', 'Frequency Quantile', 'Monetary Quantile'],\n",
    "            yaxis_titles=['Recency', 'Frequency', 'Monetary'],\n",
    "            title=f'{key} - {title}',\n",
    "            out_path=f'{OUT_PATH_GRAPH}{key}/',\n",
    "            max_col=max_col,\n",
    "            layout_kwargs=layout_kwargs,\n",
    "            to_image=to_image\n",
    "        )"
   ]
  },
  {
   "cell_type": "code",
   "execution_count": null,
   "metadata": {},
   "outputs": [],
   "source": [
    "box_rfm(rfmdf_dict,\n",
    "        title='Phase 7 - Box - RFM Quantitle',\n",
    "        to_image=False)"
   ]
  },
  {
   "cell_type": "code",
   "execution_count": null,
   "metadata": {},
   "outputs": [],
   "source": [
    "def rfm_heatmap(df_dict, z, title,\n",
    "                heatmap_kwargs={}, layout_kwargs={}, to_image=True):\n",
    "    \n",
    "    for key, df in df_dict.items():\n",
    "        z_label = ' '.join(z.split('_')).title()\n",
    "        heatmap_kwargs['text']      = 'Number: ' + df['number'] + '<br>RFM Segment: ' + df['rfm_segment'] + f'<br>{z_label}: ' + df[z].astype(str)\n",
    "        heatmap_kwargs['hoverinfo'] = 'text'\n",
    "        \n",
    "        vp.heatmap(\n",
    "            x=df['left_digits'],\n",
    "            y=df['right_digits'],\n",
    "            z=df[z].values,\n",
    "            title=f'{key} - {title}',\n",
    "            out_path=f'{OUT_PATH_GRAPH}{key}/',\n",
    "            layout_kwargs=layout_kwargs,\n",
    "            to_image=to_image,\n",
    "            heatmap_kwargs=heatmap_kwargs\n",
    "        )"
   ]
  },
  {
   "cell_type": "code",
   "execution_count": null,
   "metadata": {},
   "outputs": [],
   "source": [
    "# Split number to X & Y axis\n",
    "for key, df in rfmdf_dict.items():\n",
    "    df['left_digits']  = df['number'].str.slice(stop=2)\n",
    "    df['right_digits'] = df['number'].str.slice(start=2, stop=4)"
   ]
  },
  {
   "cell_type": "code",
   "execution_count": null,
   "metadata": {},
   "outputs": [],
   "source": [
    "# RFM Score\n",
    "rfm_heatmap(rfmdf_dict,\n",
    "            z='rfm_score',\n",
    "            title='Phase 7 - Heatmap - RFM Score',\n",
    "            heatmap_kwargs={'colorscale': 'RdYlGn'},\n",
    "            to_image=False)"
   ]
  },
  {
   "cell_type": "code",
   "execution_count": null,
   "metadata": {},
   "outputs": [],
   "source": [
    "# Recency Quantile\n",
    "rfm_heatmap(rfmdf_dict,\n",
    "            z='recency_quantile',\n",
    "            title='Phase 7 - Heatmap - Recency Quantile',\n",
    "            heatmap_kwargs={'colorscale': 'RdYlGn'},\n",
    "            to_image=False)"
   ]
  },
  {
   "cell_type": "code",
   "execution_count": null,
   "metadata": {},
   "outputs": [],
   "source": [
    "# Frequency Quantile\n",
    "rfm_heatmap(rfmdf_dict,\n",
    "            z='frequency_quantile',\n",
    "            title='Phase 7 - Heatmap - Frequency Quantile',\n",
    "            heatmap_kwargs={'colorscale': 'RdYlGn'},\n",
    "            to_image=False)"
   ]
  },
  {
   "cell_type": "code",
   "execution_count": null,
   "metadata": {},
   "outputs": [],
   "source": [
    "# Monetary Quantile\n",
    "rfm_heatmap(rfmdf_dict,\n",
    "            z='monetary_quantile',\n",
    "            title='Phase 7 - Heatmap - Monetary Quantile',\n",
    "            heatmap_kwargs={'colorscale': 'RdYlGn'},\n",
    "            to_image=False)"
   ]
  },
  {
   "cell_type": "code",
   "execution_count": null,
   "metadata": {},
   "outputs": [],
   "source": [
    "# Recency\n",
    "rfm_heatmap(rfmdf_dict,\n",
    "            z='recency',\n",
    "            title='Phase 7 - Heatmap - Recency',\n",
    "            heatmap_kwargs={\n",
    "                'colorscale': 'RdYlGn',\n",
    "                'reversescale': True\n",
    "            },\n",
    "            to_image=False)"
   ]
  },
  {
   "cell_type": "code",
   "execution_count": null,
   "metadata": {},
   "outputs": [],
   "source": [
    "# Frequency\n",
    "rfm_heatmap(rfmdf_dict,\n",
    "            z='frequency',\n",
    "            title='Phase 7 - Heatmap - Frequency',\n",
    "            heatmap_kwargs={'colorscale': 'RdYlGn'},\n",
    "            to_image=False)"
   ]
  },
  {
   "cell_type": "code",
   "execution_count": null,
   "metadata": {},
   "outputs": [],
   "source": [
    "# Monetary\n",
    "rfm_heatmap(rfmdf_dict,\n",
    "            z='monetary',\n",
    "            title='Phase 7 - Heatmap - Monetary',\n",
    "            heatmap_kwargs={'colorscale': 'RdYlGn'},\n",
    "            to_image=False)"
   ]
  },
  {
   "cell_type": "code",
   "execution_count": null,
   "metadata": {},
   "outputs": [],
   "source": [
    "# Category Frequency\n",
    "category_dict = {\n",
    "    'FST': '1st',\n",
    "    'SCD': '2nd',\n",
    "    'TRD': '3rd',\n",
    "    'SP': 'Special',\n",
    "    'CONS': 'Consolation'\n",
    "}\n",
    "\n",
    "for key, value in category_dict.items():\n",
    "    rfm_heatmap(rfmdf_dict,\n",
    "                z=f'{key}_frequency',\n",
    "                title=f'Phase 7 - Heatmap - Frequency - {value}',\n",
    "                heatmap_kwargs={'colorscale': 'RdYlGn'},\n",
    "                to_image=False)\n",
    "    print()"
   ]
  },
  {
   "cell_type": "code",
   "execution_count": null,
   "metadata": {},
   "outputs": [],
   "source": [
    "# Average Monetary\n",
    "rfm_heatmap(rfmdf_dict,\n",
    "            z='avg_monetary',\n",
    "            title='Phase 7 - Heatmap - Monetary - Average',\n",
    "            heatmap_kwargs={'colorscale': 'RdYlGn'},\n",
    "            to_image=False)"
   ]
  },
  {
   "cell_type": "markdown",
   "metadata": {},
   "source": [
    "# Phase 8 - Moving RFM Analysis\n",
    "- Calculate RFM values on each periods"
   ]
  },
  {
   "cell_type": "code",
   "execution_count": null,
   "metadata": {},
   "outputs": [],
   "source": [
    "def generate_moving_rfm(df_dict, groupby, n_group=4, subtitle=None):\n",
    "    for key, df in df_dict.items():\n",
    "        print(key)\n",
    "        \n",
    "        # Gather dates\n",
    "        dates = np.sort(df['draw_date'].unique())\n",
    "        dates = list(map(lambda x: pd.Timestamp(x), dates))\n",
    "        \n",
    "        # Gather years\n",
    "        years = list(set([x.year for x in dates]))\n",
    "        \n",
    "        for year in years:\n",
    "            # Filter for dates fall under year\n",
    "            filter_dates = [x for x in dates if x.year == year]\n",
    "            \n",
    "            # Perform RFM analysis on each dates\n",
    "            filter_list = []\n",
    "            for date in filter_dates:\n",
    "                # Date filtering\n",
    "                filter_df = df[df['draw_date'] <= date].copy()\n",
    "                period    = filter_df['draw_period'].max()\n",
    "\n",
    "                # Calculate RFM values\n",
    "                filter_df = rfm_value(filter_df, groupby=groupby, target_period=period)\n",
    "\n",
    "                # Collect data\n",
    "                filter_df['date'] = date\n",
    "                filter_list.append(filter_df.to_dict())\n",
    "\n",
    "            # Compile data for each dates\n",
    "            rfm_df = pd.concat([pd.DataFrame(x) for x in filter_list]).reset_index(drop=True)\n",
    "            \n",
    "            # Export moving RFM\n",
    "            fp.generate_csv(rfm_df,\n",
    "                            out_path=f'{OUT_PATH_FILE}{key}/Moving RFM/',\n",
    "                            out_filename=f'{key} - {year}.csv',\n",
    "                            export_index=False)"
   ]
  },
  {
   "cell_type": "code",
   "execution_count": null,
   "metadata": {
    "scrolled": true
   },
   "outputs": [],
   "source": [
    "EXEC_START = time.time()\n",
    "\n",
    "generate_moving_rfm(df_dict, groupby='number', n_group=10)\n",
    "\n",
    "EXEC_END = time.time()\n",
    "time_taken(EXEC_END - EXEC_START)"
   ]
  },
  {
   "cell_type": "markdown",
   "metadata": {},
   "source": [
    "# Phase 9 - Complete Set\n",
    "- Load result having all numbers occurs at least once"
   ]
  },
  {
   "cell_type": "code",
   "execution_count": null,
   "metadata": {},
   "outputs": [],
   "source": [
    "def load_moving_rfm(company_code, start_year=None, end_year=None):\n",
    "    files      = glob.glob(f'{OUT_PATH_FILE}{company_code}/Moving RFM/{company_code} - *.csv')\n",
    "    files_dict = {x: int(x[x.index('.csv') - 4: x.index('.csv')]) for x in files}\n",
    "    files      = [k for k,v in files_dict.items()\n",
    "                  if (True if start_year is None else v >= start_year) and (True if end_year is None else v <= end_year)]\n",
    "    \n",
    "    dfs = []\n",
    "    for file in files:\n",
    "        print(file)\n",
    "        df_chunks = pd.read_csv(file, sep=';', dtype={'number': str},\n",
    "                                parse_dates=['date'],\n",
    "                                date_parser=lambda x: pd.to_datetime(x, format='%Y-%m-%d'),\n",
    "                                chunksize=50_000)\n",
    "        df = pd.concat(df_chunks)\n",
    "        dfs.append(df)\n",
    "        \n",
    "    return pd.concat(dfs)"
   ]
  },
  {
   "cell_type": "code",
   "execution_count": null,
   "metadata": {
    "scrolled": true
   },
   "outputs": [],
   "source": [
    "# Magnum\n",
    "# - Operate from 1985-04-25, and 2013-11-17 is the date where all numbers occurs at least once\n",
    "# - Last number to occur is 6962\n",
    "company_code = 'MAG'\n",
    "rfm_df = load_moving_rfm(company_code, start_year=2013, end_year=2013)\n",
    "rfm_df = rfm_df[rfm_df['date'] == '2013-11-17'].reset_index(drop=True).copy()\n",
    "\n",
    "# # Da Ma Cai\n",
    "# # - Operate from 1990-01-06, and 2016-11-27 is the date where all numbers occurs at least once\n",
    "# # - Last number to occur is 6771\n",
    "# company_code = 'DMC'\n",
    "# rfm_df = load_moving_rfm(company_code, start_year=2016, end_year=2016)\n",
    "# rfm_df = rfm_df[rfm_df['date'] == '2016-11-27'].reset_index(drop=True).copy()\n",
    "\n",
    "# # Sports Toto\n",
    "# # - Operate from 1992-05-06, and 2015-05-27 is the date where all numbers occurs at least once\n",
    "# # - Last number to occur is 5488\n",
    "# company_code = 'ST'\n",
    "# rfm_df = load_moving_rfm(company_code, start_year=2015, end_year=2015)\n",
    "# rfm_df = rfm_df[rfm_df['date'] == '2015-05-27'].reset_index(drop=True).copy()"
   ]
  },
  {
   "cell_type": "code",
   "execution_count": null,
   "metadata": {},
   "outputs": [],
   "source": [
    "# Assign RFM quantiles\n",
    "n_group = 10\n",
    "rfm_df  = rfm_quantitle(rfm_df, 'recency', n_group=n_group, inverse=True)\n",
    "rfm_df  = rfm_quantitle(rfm_df, 'frequency', n_group=n_group)\n",
    "rfm_df  = rfm_quantitle(rfm_df, 'monetary', n_group=n_group)\n",
    "\n",
    "# Assign RFM segments\n",
    "rfm_df = rfm_segment(rfm_df)\n",
    "\n",
    "# Calculate RFM scores\n",
    "rfm_df = rfm_score(rfm_df)"
   ]
  },
  {
   "cell_type": "code",
   "execution_count": null,
   "metadata": {},
   "outputs": [],
   "source": [
    "histogram({company_code: rfm_df},\n",
    "          title='Phase 8 - Histogram - Number RFM',\n",
    "          columns=['number', 'recency', 'frequency', 'monetary',\n",
    "                   'FST_frequency', 'SCD_frequency', 'TRD_frequency', 'SP_frequency', 'CONS_frequency',\n",
    "                   'avg_monetary', 'recency_quantile', 'frequency_quantile', 'monetary_quantile',\n",
    "                   'rfm_segment', 'rfm_score'],\n",
    "          max_col=3,\n",
    "          layout_kwargs={'height': 1000})"
   ]
  },
  {
   "cell_type": "code",
   "execution_count": null,
   "metadata": {},
   "outputs": [],
   "source": [
    "box({company_code: rfm_df},\n",
    "    title='Phase 9 - Box - Number RFM',\n",
    "    max_col=3)"
   ]
  },
  {
   "cell_type": "code",
   "execution_count": null,
   "metadata": {},
   "outputs": [],
   "source": [
    "box_rfm({company_code: rfm_df},\n",
    "        title='Phase 9 - Box - RFM Quantitle',\n",
    "        to_image=False)"
   ]
  },
  {
   "cell_type": "code",
   "execution_count": null,
   "metadata": {},
   "outputs": [],
   "source": [
    "# Split number to X & Y axis\n",
    "rfm_df['left_digits']  = rfm_df['number'].str.slice(stop=2)\n",
    "rfm_df['right_digits'] = rfm_df['number'].str.slice(start=2, stop=4)"
   ]
  },
  {
   "cell_type": "code",
   "execution_count": null,
   "metadata": {},
   "outputs": [],
   "source": [
    "# RFM Score\n",
    "rfm_heatmap({company_code: rfm_df},\n",
    "            z='rfm_score',\n",
    "            title='Phase 9 - Heatmap - RFM Score',\n",
    "            heatmap_kwargs={'colorscale': 'RdYlGn'},\n",
    "            to_image=False)"
   ]
  },
  {
   "cell_type": "code",
   "execution_count": null,
   "metadata": {},
   "outputs": [],
   "source": [
    "# Recency Quantile\n",
    "rfm_heatmap({company_code: rfm_df},\n",
    "            z='recency_quantile',\n",
    "            title='Phase 9 - Heatmap - Recency Quantile',\n",
    "            heatmap_kwargs={'colorscale': 'RdYlGn'},\n",
    "            to_image=False)"
   ]
  },
  {
   "cell_type": "code",
   "execution_count": null,
   "metadata": {},
   "outputs": [],
   "source": [
    "# Frequency Quantile\n",
    "rfm_heatmap({company_code: rfm_df},\n",
    "            z='frequency_quantile',\n",
    "            title='Phase 9 - Heatmap - Frequency Quantile',\n",
    "            heatmap_kwargs={'colorscale': 'RdYlGn'},\n",
    "            to_image=False)"
   ]
  },
  {
   "cell_type": "code",
   "execution_count": null,
   "metadata": {},
   "outputs": [],
   "source": [
    "# Monetary Quantile\n",
    "rfm_heatmap({company_code: rfm_df},\n",
    "            z='monetary_quantile',\n",
    "            title='Phase 9 - Heatmap - Monetary Quantile',\n",
    "            heatmap_kwargs={'colorscale': 'RdYlGn'},\n",
    "            to_image=False)"
   ]
  },
  {
   "cell_type": "code",
   "execution_count": null,
   "metadata": {},
   "outputs": [],
   "source": [
    "# Recency\n",
    "rfm_heatmap({company_code: rfm_df},\n",
    "            z='recency',\n",
    "            title='Phase 9 - Heatmap - Recency',\n",
    "            heatmap_kwargs={\n",
    "                'colorscale': 'RdYlGn',\n",
    "                'reversescale': True\n",
    "            },\n",
    "            to_image=False)"
   ]
  },
  {
   "cell_type": "code",
   "execution_count": null,
   "metadata": {},
   "outputs": [],
   "source": [
    "# Frequency\n",
    "rfm_heatmap({company_code: rfm_df},\n",
    "            z='frequency',\n",
    "            title='Phase 9 - Heatmap - Frequency',\n",
    "            heatmap_kwargs={'colorscale': 'RdYlGn'},\n",
    "            to_image=False)"
   ]
  },
  {
   "cell_type": "code",
   "execution_count": null,
   "metadata": {},
   "outputs": [],
   "source": [
    "# Monetary\n",
    "rfm_heatmap({company_code: rfm_df},\n",
    "            z='monetary',\n",
    "            title='Phase 9 - Heatmap - Monetary',\n",
    "            heatmap_kwargs={'colorscale': 'RdYlGn'},\n",
    "            to_image=False)"
   ]
  },
  {
   "cell_type": "code",
   "execution_count": null,
   "metadata": {},
   "outputs": [],
   "source": [
    "# Category Frequency\n",
    "category_dict = {\n",
    "    'FST': '1st',\n",
    "    'SCD': '2nd',\n",
    "    'TRD': '3rd',\n",
    "    'SP': 'Special',\n",
    "    'CONS': 'Consolation'\n",
    "}\n",
    "\n",
    "for key, value in category_dict.items():\n",
    "    rfm_heatmap({company_code: rfm_df},\n",
    "                z=f'{key}_frequency',\n",
    "                title=f'Phase 9 - Heatmap - Frequency - {value}',\n",
    "                heatmap_kwargs={'colorscale': 'RdYlGn'},\n",
    "                to_image=False)"
   ]
  },
  {
   "cell_type": "code",
   "execution_count": null,
   "metadata": {},
   "outputs": [],
   "source": [
    "# Average Monetary\n",
    "rfm_heatmap({company_code: rfm_df},\n",
    "            z='avg_monetary',\n",
    "            title='Phase 9 - Heatmap - Monetary - Average',\n",
    "            heatmap_kwargs={'colorscale': 'RdYlGn'},\n",
    "            to_image=False)"
   ]
  },
  {
   "cell_type": "markdown",
   "metadata": {},
   "source": [
    "# Phase 10 - Feature Engineering\n",
    "- Load result starting from date where all numbers occurs at least once"
   ]
  },
  {
   "cell_type": "code",
   "execution_count": null,
   "metadata": {},
   "outputs": [],
   "source": [
    "# Magnum\n",
    "company_code = 'MAG'\n",
    "data_df = load_moving_rfm(company_code, start_year=2013, end_year=2019)\n",
    "data_df = data_df[data_df['date'] >= '2013-11-17'].reset_index(drop=True).copy()\n",
    "\n",
    "# # Da Ma Cai\n",
    "# company_code = 'DMC'\n",
    "# data_df = load_moving_rfm(company_code, start_year=2016, end_year=2019)\n",
    "# data_df = data_df[data_df['date'] >= '2016-11-27'].reset_index(drop=True).copy()\n",
    "\n",
    "# # Sports Toto\n",
    "# company_code = 'ST'\n",
    "# data_df = load_moving_rfm(company_code, start_year=2015, end_year=2019)\n",
    "# data_df = data_df[data_df['date'] >= '2015-05-27'].reset_index(drop=True).copy()"
   ]
  },
  {
   "cell_type": "code",
   "execution_count": null,
   "metadata": {},
   "outputs": [],
   "source": [
    "# TODO - create target class"
   ]
  },
  {
   "cell_type": "code",
   "execution_count": null,
   "metadata": {},
   "outputs": [],
   "source": []
  },
  {
   "cell_type": "code",
   "execution_count": null,
   "metadata": {},
   "outputs": [],
   "source": []
  }
 ],
 "metadata": {
  "kernelspec": {
   "display_name": "Python 3",
   "language": "python",
   "name": "python3"
  },
  "language_info": {
   "codemirror_mode": {
    "name": "ipython",
    "version": 3
   },
   "file_extension": ".py",
   "mimetype": "text/x-python",
   "name": "python",
   "nbconvert_exporter": "python",
   "pygments_lexer": "ipython3",
   "version": "3.7.4"
  }
 },
 "nbformat": 4,
 "nbformat_minor": 2
}
