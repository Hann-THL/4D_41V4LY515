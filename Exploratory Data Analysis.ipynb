{
 "cells": [
  {
   "cell_type": "code",
   "execution_count": null,
   "metadata": {},
   "outputs": [],
   "source": [
    "import lib._util.visualplot as vp\n",
    "import lib._util.fileproc as fp\n",
    "import lib._util.dimreduce as dr"
   ]
  },
  {
   "cell_type": "code",
   "execution_count": null,
   "metadata": {},
   "outputs": [],
   "source": [
    "import pandas as pd\n",
    "import numpy as np\n",
    "import copy\n",
    "import glob\n",
    "\n",
    "# Plotly\n",
    "import plotly.express as px\n",
    "import plotly.graph_objects as go\n",
    "\n",
    "# Time measurement\n",
    "import time\n",
    "from datetime import timedelta, datetime\n",
    "\n",
    "# Sound notification\n",
    "import winsound"
   ]
  },
  {
   "cell_type": "markdown",
   "metadata": {},
   "source": [
    "# Useful Functions"
   ]
  },
  {
   "cell_type": "code",
   "execution_count": null,
   "metadata": {},
   "outputs": [],
   "source": [
    "SOURCE_PATH_DATA = 'resources/data/'\n",
    "OUT_PATH_GRAPH   = 'resources/output/eda/graph/'\n",
    "OUT_PATH_FILE    = 'resources/output/eda/file/'\n",
    "\n",
    "def time_taken(seconds):\n",
    "    print(f'\\nTime Taken: {str(timedelta(seconds=seconds))}')\n",
    "    winsound.Beep(frequency=1000, duration=100)\n",
    "    winsound.Beep(frequency=1500, duration=50)"
   ]
  },
  {
   "cell_type": "markdown",
   "metadata": {},
   "source": [
    "# Phase 1 - Data Loading"
   ]
  },
  {
   "cell_type": "code",
   "execution_count": null,
   "metadata": {},
   "outputs": [],
   "source": [
    "def load_data(filename):\n",
    "    source_file = f'{SOURCE_PATH_DATA}{filename}'\n",
    "    df_chunks   = pd.read_csv(source_file, sep=';', dtype={'number': str},\n",
    "                              parse_dates=['draw_date'],\n",
    "                              date_parser=lambda x: pd.to_datetime(x, format='%Y-%m-%d'),\n",
    "                              chunksize=50_000)\n",
    "    df = pd.concat(df_chunks)\n",
    "    \n",
    "    # Separate by company\n",
    "    df_dict = dict()\n",
    "    for company in df['company_code'].unique():\n",
    "        df_dict[company] = df[df['company_code'] == company].copy()\n",
    "    \n",
    "    return df_dict"
   ]
  },
  {
   "cell_type": "code",
   "execution_count": null,
   "metadata": {},
   "outputs": [],
   "source": [
    "EXEC_START = time.time()\n",
    "\n",
    "df_dict = load_data('4D_result_1985-04-25_2019-12-31.csv')\n",
    "print(df_dict.keys())\n",
    "\n",
    "EXEC_END = time.time()\n",
    "time_taken(EXEC_END - EXEC_START)"
   ]
  },
  {
   "cell_type": "code",
   "execution_count": null,
   "metadata": {},
   "outputs": [],
   "source": [
    "def faststat(df_dict):\n",
    "    for key, df in df_dict.items():\n",
    "        print(key)\n",
    "        vp.faststat(df)\n",
    "        print()"
   ]
  },
  {
   "cell_type": "code",
   "execution_count": null,
   "metadata": {},
   "outputs": [],
   "source": [
    "faststat(df_dict)"
   ]
  },
  {
   "cell_type": "code",
   "execution_count": null,
   "metadata": {},
   "outputs": [],
   "source": [
    "def histogram(df, subfolder, subtitle='Histogram', layout_height=None):\n",
    "    vp.histogram(df, title=f'{subfolder} - {subtitle}', out_path=f'{OUT_PATH_GRAPH}{subfolder}/', layout_height=layout_height)\n",
    "\n",
    "def generate_histogram(df_dict, columns=None, subtitle='Histogram', layout_height=None):\n",
    "    for key, df in df_dict.items():\n",
    "        tmp_df = df.copy()\n",
    "        if columns is not None:\n",
    "            tmp_df = df[columns].copy()\n",
    "            \n",
    "        histogram(tmp_df, subfolder=key, subtitle=f'{key} - {subtitle}', layout_height=layout_height)"
   ]
  },
  {
   "cell_type": "code",
   "execution_count": null,
   "metadata": {},
   "outputs": [],
   "source": [
    "generate_histogram(df_dict, subtitle='Phase 1 - Histogram')"
   ]
  },
  {
   "cell_type": "markdown",
   "metadata": {},
   "source": [
    "# Phase 2 - Data Preparation"
   ]
  },
  {
   "cell_type": "markdown",
   "metadata": {},
   "source": [
    "- Drop non-informative field\n",
    "- Handle invalid position"
   ]
  },
  {
   "cell_type": "code",
   "execution_count": null,
   "metadata": {},
   "outputs": [],
   "source": [
    "for key, df in df_dict.items():\n",
    "    # Drop company column\n",
    "    df.drop(columns=['company_code'], inplace=True)\n",
    "    \n",
    "    # Remove invalid number\n",
    "    df = df[df['number'] != '----'].copy()\n",
    "    \n",
    "    df_dict[key] = df"
   ]
  },
  {
   "cell_type": "code",
   "execution_count": null,
   "metadata": {},
   "outputs": [],
   "source": [
    "# Handle invalid position on DMC due to duplication\n",
    "tmp_df = df_dict['DMC'].copy()\n",
    "tmp_df = tmp_df[tmp_df['position'] <= 10]\n",
    "df_dict['DMC'] = tmp_df.copy()\n",
    "\n",
    "del tmp_df"
   ]
  },
  {
   "cell_type": "code",
   "execution_count": null,
   "metadata": {},
   "outputs": [],
   "source": [
    "generate_histogram(df_dict, subtitle='Phase 2 - Histogram')"
   ]
  },
  {
   "cell_type": "markdown",
   "metadata": {},
   "source": [
    "# Phase 3 - Feature Engineering"
   ]
  },
  {
   "cell_type": "markdown",
   "metadata": {},
   "source": [
    "- Populate number features"
   ]
  },
  {
   "cell_type": "code",
   "execution_count": null,
   "metadata": {},
   "outputs": [],
   "source": [
    "def number_feature(df_dict):\n",
    "    # Load feature data\n",
    "    source_file = f'{SOURCE_PATH_DATA}number_category.csv'\n",
    "    feature_df  = pd.read_csv(source_file, sep=';', dtype={'number': str})\n",
    "    \n",
    "    newdf_dict = copy.deepcopy(df_dict)\n",
    "    for key, df in newdf_dict.items():\n",
    "        df = df.merge(feature_df, on='number', how='left')\n",
    "        newdf_dict[key] = df\n",
    "    \n",
    "    return newdf_dict\n",
    "\n",
    "def price_feature(df_dict):\n",
    "    # Reference: https://www.magnum4d.my/en/4d-game\n",
    "    price_dict = {\n",
    "        'FST': 2500,\n",
    "        'SCD': 1000,\n",
    "        'TRD': 500,\n",
    "        'SP': 180,\n",
    "        'CONS': 60\n",
    "    }\n",
    "    \n",
    "    newdf_dict = copy.deepcopy(df_dict)\n",
    "    for key, df in newdf_dict.items():\n",
    "        df['price'] = df['category'].map(price_dict)\n",
    "    return newdf_dict"
   ]
  },
  {
   "cell_type": "code",
   "execution_count": null,
   "metadata": {},
   "outputs": [],
   "source": [
    "df_dict = number_feature(df_dict)\n",
    "df_dict = price_feature(df_dict)"
   ]
  },
  {
   "cell_type": "code",
   "execution_count": null,
   "metadata": {},
   "outputs": [],
   "source": [
    "faststat(df_dict)"
   ]
  },
  {
   "cell_type": "code",
   "execution_count": null,
   "metadata": {},
   "outputs": [],
   "source": [
    "generate_histogram(df_dict, subtitle='Phase 3 - Histogram', layout_height=1024)"
   ]
  },
  {
   "cell_type": "markdown",
   "metadata": {},
   "source": [
    "# Phase 4 - RFM Analysis"
   ]
  },
  {
   "cell_type": "markdown",
   "metadata": {},
   "source": [
    "- Calculate recency, frequency and monetary values for lottery number\n",
    "- Assign RFM quantiles\n",
    "- Assign RFM segments\n",
    "- Calculate RFM scores\n",
    "- Assign RFM levels"
   ]
  },
  {
   "cell_type": "code",
   "execution_count": null,
   "metadata": {},
   "outputs": [],
   "source": [
    "def generate_rfm(df_dict, groupby, n_group=4):\n",
    "    newdf_dict = copy.deepcopy(df_dict)\n",
    "    for key, df in newdf_dict.items():\n",
    "        # Calculate RFM values\n",
    "        df = rfm_value(df, groupby)\n",
    "        \n",
    "        # Calculate average monetary\n",
    "        df['monetary'] = df['monetary'] / df['frequency']\n",
    "        df['monetary'] = np.round(df['monetary'], 2)\n",
    "        \n",
    "        # Assign RFM quantiles\n",
    "        df = rfm_quantitle(df, 'recency', n_group=n_group, inverse=True)\n",
    "        df = rfm_quantitle(df, 'frequency', n_group=n_group)\n",
    "        df = rfm_quantitle(df, 'monetary', n_group=n_group)\n",
    "        \n",
    "        # Assign RFM segments\n",
    "        df = rfm_segment(df)\n",
    "        \n",
    "        # Calculate RFM scores\n",
    "        df = rfm_score(df)\n",
    "        \n",
    "        # Assign RFM levels\n",
    "        # df = rfm_level(df)\n",
    "        \n",
    "        newdf_dict[key] = df\n",
    "    \n",
    "    return newdf_dict\n",
    "\n",
    "def rfm_value(df, groupby, target_date=None):\n",
    "    if target_date is None:\n",
    "        target_date = pd.Timestamp(datetime.now().strftime('%Y-%m-%d'))\n",
    "\n",
    "    rfm_df = df.groupby(groupby).agg(\n",
    "        recency=('draw_date', lambda x: (target_date - x.max()).days),\n",
    "        frequency=('category', 'count'),\n",
    "        monetary=('price', 'sum')\n",
    "    ).reset_index()\n",
    "\n",
    "    return rfm_df\n",
    "\n",
    "def rfm_quantitle(df, column, n_group=4, inverse=False):\n",
    "    labels  = [x for x in range(n_group, 0, -1)] if inverse else [x for x in range(1, n_group +1)]\n",
    "    uniques = df[column].unique()\n",
    "\n",
    "    if len(uniques) == 1:\n",
    "        quantile_dict = {x: 1 for x in uniques}\n",
    "    else:\n",
    "        quantile_dict = dict(zip(uniques, pd.qcut(uniques, q=n_group, labels=labels)))\n",
    "    df[f'{column}_quantile'] = df[column].map(quantile_dict)\n",
    "\n",
    "    return df\n",
    "\n",
    "def rfm_segment(df):\n",
    "    df['rfm_segment'] = df['recency_quantile'].astype(str) + '_' + df['frequency_quantile'].astype(str) + '_' + df['monetary_quantile'].astype(str)\n",
    "    return df\n",
    "\n",
    "def rfm_score(df):\n",
    "    df['rfm_score'] = df[['recency_quantile', 'frequency_quantile', 'monetary_quantile']].sum(axis=1)\n",
    "    return df\n",
    "\n",
    "def rfm_level(df):\n",
    "    # Reference: https://towardsdatascience.com/recency-frequency-monetary-model-with-python-and-how-sephora-uses-it-to-optimize-their-google-d6a0707c5f17\n",
    "    df.loc[df['rfm_score'] <= 3, 'rfm_level'] = 'Activation Required (6)'\n",
    "\n",
    "    df.loc[(df['rfm_score'] <= 5) &\n",
    "           (df['rfm_level'].isna() == True), 'rfm_level'] = 'Needs Attention (5)'\n",
    "\n",
    "    df.loc[(df['rfm_score'] <= 7) &\n",
    "           (df['rfm_level'].isna() == True), 'rfm_level'] = 'Promising (4)'\n",
    "\n",
    "    df.loc[(df['rfm_score'] <= 9) &\n",
    "           (df['rfm_level'].isna() == True), 'rfm_level'] = 'Potential (3)'\n",
    "\n",
    "    df.loc[(df['rfm_score'] <= 11) &\n",
    "           (df['rfm_level'].isna() == True), 'rfm_level'] = 'Champions (2)'\n",
    "\n",
    "    df.loc[(df['rfm_score'] <= 12) &\n",
    "           (df['rfm_level'].isna() == True), 'rfm_level'] = 'Best of the Best (1)'\n",
    "\n",
    "    # Reference: https://www.optimove.com/resources/learning-center/rfm-segmentation\n",
    "    # RFM score: 8 - 9\n",
    "    df.loc[df['rfm_segment'].isin(['4_1_4', '4_1_3']), 'rfm_level'] = 'High Profit New Number (3)'\n",
    "    # RFM score: 7 - 9\n",
    "    df.loc[df['rfm_segment'].isin(['3_4_1', '3_3_1', '4_4_1', '4_3_1']), 'rfm_level'] = 'Lowest Profit Active Number (3.5)'\n",
    "    # RFM score: 7 - 9\n",
    "    df.loc[df['rfm_segment'].isin(['1_3_3', '1_3_4', '1_4_3', '1_4_4']), 'rfm_level'] = 'Best Number At Risk (3.5)'\n",
    "\n",
    "    return df"
   ]
  },
  {
   "cell_type": "markdown",
   "metadata": {},
   "source": [
    "### Number RFM"
   ]
  },
  {
   "cell_type": "code",
   "execution_count": null,
   "metadata": {},
   "outputs": [],
   "source": [
    "rfmdf_dict = generate_rfm(df_dict, groupby='number', n_group=10)"
   ]
  },
  {
   "cell_type": "code",
   "execution_count": null,
   "metadata": {},
   "outputs": [],
   "source": [
    "generate_histogram(rfmdf_dict, subtitle='Phase 4 - Histogram', layout_height=1024)"
   ]
  },
  {
   "cell_type": "code",
   "execution_count": null,
   "metadata": {},
   "outputs": [],
   "source": [
    "def boxplot(df, x_col, y_cols, subfolder, subtitle='Box-Plot', layout_height=None):\n",
    "    vp.boxplot(df[y_cols + [x_col]], x_col=x_col,\n",
    "               title=f'{subfolder} - {subtitle}', out_path=f'{OUT_PATH_GRAPH}{subfolder}/', layout_height=layout_height)\n",
    "    \n",
    "def generate_boxplot(df_dict, x_col, y_cols, subtitle='Box-Plot', layout_height=None):\n",
    "    for key, df in df_dict.items():\n",
    "        boxplot(df, x_col, y_cols, subfolder=key, subtitle=subtitle, layout_height=layout_height)"
   ]
  },
  {
   "cell_type": "code",
   "execution_count": null,
   "metadata": {},
   "outputs": [],
   "source": [
    "generate_boxplot(rfmdf_dict, x_col='recency_quantile', y_cols=['recency', 'frequency', 'monetary'],\n",
    "                 subtitle='Phase 4 - Box-Plot - Recency Quantile')\n",
    "\n",
    "generate_boxplot(rfmdf_dict, x_col='frequency_quantile', y_cols=['recency', 'frequency', 'monetary'],\n",
    "                 subtitle='Phase 4 - Box-Plot - Frequency Quantile')\n",
    "\n",
    "generate_boxplot(rfmdf_dict, x_col='monetary_quantile', y_cols=['recency', 'frequency', 'monetary'],\n",
    "                 subtitle='Phase 4 - Box-Plot - Monetary Quantile')"
   ]
  },
  {
   "cell_type": "code",
   "execution_count": null,
   "metadata": {},
   "outputs": [],
   "source": [
    "for key, df in rfmdf_dict.items():\n",
    "    df['left_digits']  = df['number'].str.slice(stop=2)\n",
    "    df['right_digits'] = df['number'].str.slice(start=2, stop=4)"
   ]
  },
  {
   "cell_type": "code",
   "execution_count": null,
   "metadata": {},
   "outputs": [],
   "source": [
    "def number_heatmap(df, z_col, subfolder, subtitle='Heatmap', layout_height=None):\n",
    "    vp.heatmap(df, x_col='left_digits', y_col='right_digits', z_col=z_col,\n",
    "               colorscale='Viridis',\n",
    "               text='Number: ' + df['number'] + '<br>RFM Segment: ' + df['rfm_segment'],\n",
    "               hoverinfo='text',\n",
    "               title=f'{subfolder} - {subtitle}', out_path=f'{OUT_PATH_GRAPH}{subfolder}/', layout_height=layout_height)\n",
    "\n",
    "def generate_number_heatmap(df_dict, z_col, subtitle='Heatmap', layout_height=None):\n",
    "    for key, df in df_dict.items():\n",
    "        number_heatmap(df, z_col, subfolder=key, subtitle=subtitle, layout_height=layout_height)"
   ]
  },
  {
   "cell_type": "code",
   "execution_count": null,
   "metadata": {},
   "outputs": [],
   "source": [
    "generate_number_heatmap(rfmdf_dict, z_col='rfm_score',\n",
    "                        subtitle='Phase 4 - Heatmap - RFM Score')\n",
    "\n",
    "generate_number_heatmap(rfmdf_dict, z_col='recency_quantile',\n",
    "                        subtitle='Phase 4 - Heatmap - Recency Quantile')\n",
    "\n",
    "generate_number_heatmap(rfmdf_dict, z_col='frequency_quantile',\n",
    "                        subtitle='Phase 4 - Heatmap - Frequency Quantile')\n",
    "\n",
    "generate_number_heatmap(rfmdf_dict, z_col='monetary_quantile',\n",
    "                        subtitle='Phase 4 - Heatmap - Monetary Quantile')"
   ]
  },
  {
   "cell_type": "markdown",
   "metadata": {},
   "source": [
    "### Pattern RFM"
   ]
  },
  {
   "cell_type": "code",
   "execution_count": null,
   "metadata": {},
   "outputs": [],
   "source": [
    "rfmdf_dict = generate_rfm(df_dict, groupby='pattern', n_group=4)"
   ]
  },
  {
   "cell_type": "code",
   "execution_count": null,
   "metadata": {},
   "outputs": [],
   "source": [
    "generate_boxplot(rfmdf_dict, x_col='recency_quantile', y_cols=['recency', 'frequency', 'monetary'],\n",
    "                 subtitle='Phase 4 - Box-Plot - Recency Quantile - Pattern')\n",
    "\n",
    "generate_boxplot(rfmdf_dict, x_col='frequency_quantile', y_cols=['recency', 'frequency', 'monetary'],\n",
    "                 subtitle='Phase 4 - Box-Plot - Frequency Quantile - Pattern')\n",
    "\n",
    "generate_boxplot(rfmdf_dict, x_col='monetary_quantile', y_cols=['recency', 'frequency', 'monetary'],\n",
    "                 subtitle='Phase 4 - Box-Plot - Monetary Quantile - Pattern')"
   ]
  },
  {
   "cell_type": "code",
   "execution_count": null,
   "metadata": {},
   "outputs": [],
   "source": [
    "def bar(df, x_col, y_cols, subfolder, subtitle='Bar', layout_height=None):\n",
    "    vp.bar(df, x_col=x_col, y_cols=y_cols,\n",
    "           title=f'{subfolder} - {subtitle}', out_path=f'{OUT_PATH_GRAPH}{subfolder}/', layout_height=layout_height)\n",
    "    \n",
    "def generate_bar(df_dict, x_col, y_cols, subtitle='Bar', layout_height=None):\n",
    "    for key, df in df_dict.items():\n",
    "        bar(df, x_col, y_cols, subfolder=key, subtitle=subtitle, layout_height=layout_height)"
   ]
  },
  {
   "cell_type": "code",
   "execution_count": null,
   "metadata": {},
   "outputs": [],
   "source": [
    "y_cols = ['recency_quantile', 'recency',\n",
    "          'frequency_quantile', 'frequency',\n",
    "          'monetary_quantile', 'monetary',\n",
    "          'rfm_score']\n",
    "generate_bar(rfmdf_dict, x_col='pattern', y_cols=y_cols,\n",
    "             subtitle='Phase 4 - Bar - Pattern RFM', layout_height=1024)"
   ]
  },
  {
   "cell_type": "markdown",
   "metadata": {},
   "source": [
    "### Group RFM"
   ]
  },
  {
   "cell_type": "code",
   "execution_count": null,
   "metadata": {
    "scrolled": true
   },
   "outputs": [],
   "source": [
    "for groupby in ['group_4', 'group_3', 'group_2', 'group_1']:\n",
    "    rfmdf_dict = generate_rfm(df_dict, groupby=groupby, n_group=4)\n",
    "    \n",
    "    generate_boxplot(rfmdf_dict, x_col='recency_quantile', y_cols=['recency', 'frequency', 'monetary'],\n",
    "                     subtitle=f'Phase 4 - Box-Plot - Recency Quantile - {groupby.title()}')\n",
    "    \n",
    "    generate_boxplot(rfmdf_dict, x_col='frequency_quantile', y_cols=['recency', 'frequency', 'monetary'],\n",
    "                     subtitle=f'Phase 4 - Box-Plot - Frequency Quantile - {groupby.title()}')\n",
    "    \n",
    "    generate_boxplot(rfmdf_dict, x_col='monetary_quantile', y_cols=['recency', 'frequency', 'monetary'],\n",
    "                     subtitle=f'Phase 4 - Box-Plot - Monetary Quantile - {groupby.title()}')\n",
    "    \n",
    "    y_cols = ['recency_quantile', 'recency',\n",
    "              'frequency_quantile', 'frequency',\n",
    "              'monetary_quantile', 'monetary',\n",
    "              'rfm_score']\n",
    "    generate_bar(rfmdf_dict, x_col=groupby, y_cols=y_cols,\n",
    "                 subtitle=f'Phase 4 - Bar - {groupby.title()} RFM', layout_height=1024)"
   ]
  },
  {
   "cell_type": "markdown",
   "metadata": {},
   "source": [
    "### Odd Even RFM"
   ]
  },
  {
   "cell_type": "code",
   "execution_count": null,
   "metadata": {},
   "outputs": [],
   "source": [
    "rfmdf_dict = generate_rfm(df_dict, groupby='odd_even', n_group=4)"
   ]
  },
  {
   "cell_type": "code",
   "execution_count": null,
   "metadata": {},
   "outputs": [],
   "source": [
    "generate_boxplot(rfmdf_dict, x_col='recency_quantile', y_cols=['recency', 'frequency', 'monetary'],\n",
    "                 subtitle='Phase 4 - Box-Plot - Recency Quantile - Odd-Even')\n",
    "\n",
    "generate_boxplot(rfmdf_dict, x_col='frequency_quantile', y_cols=['recency', 'frequency', 'monetary'],\n",
    "                 subtitle='Phase 4 - Box-Plot - Frequency Quantile - Odd-Even')\n",
    "\n",
    "generate_boxplot(rfmdf_dict, x_col='monetary_quantile', y_cols=['recency', 'frequency', 'monetary'],\n",
    "                 subtitle='Phase 4 - Box-Plot - Monetary Quantile - Odd-Even')"
   ]
  },
  {
   "cell_type": "code",
   "execution_count": null,
   "metadata": {},
   "outputs": [],
   "source": [
    "y_cols = ['recency_quantile', 'recency',\n",
    "          'frequency_quantile', 'frequency',\n",
    "          'monetary_quantile', 'monetary',\n",
    "          'rfm_score']\n",
    "generate_bar(rfmdf_dict, x_col='odd_even', y_cols=y_cols,\n",
    "             subtitle='Phase 4 - Bar - Odd-Even RFM', layout_height=1024)"
   ]
  },
  {
   "cell_type": "markdown",
   "metadata": {},
   "source": [
    "### Big Small RFM"
   ]
  },
  {
   "cell_type": "code",
   "execution_count": null,
   "metadata": {},
   "outputs": [],
   "source": [
    "rfmdf_dict = generate_rfm(df_dict, groupby='big_small', n_group=4)"
   ]
  },
  {
   "cell_type": "code",
   "execution_count": null,
   "metadata": {},
   "outputs": [],
   "source": [
    "generate_boxplot(rfmdf_dict, x_col='recency_quantile', y_cols=['recency', 'frequency', 'monetary'],\n",
    "                 subtitle='Phase 4 - Box-Plot - Recency Quantile - Big-Small')\n",
    "\n",
    "generate_boxplot(rfmdf_dict, x_col='frequency_quantile', y_cols=['recency', 'frequency', 'monetary'],\n",
    "                 subtitle='Phase 4 - Box-Plot - Frequency Quantile - Big-Small')\n",
    "\n",
    "generate_boxplot(rfmdf_dict, x_col='monetary_quantile', y_cols=['recency', 'frequency', 'monetary'],\n",
    "                 subtitle='Phase 4 - Box-Plot - Monetary Quantile - Big-Small')"
   ]
  },
  {
   "cell_type": "code",
   "execution_count": null,
   "metadata": {},
   "outputs": [],
   "source": [
    "y_cols = ['recency_quantile', 'recency',\n",
    "          'frequency_quantile', 'frequency',\n",
    "          'monetary_quantile', 'monetary',\n",
    "          'rfm_score']\n",
    "generate_bar(rfmdf_dict, x_col='big_small', y_cols=y_cols,\n",
    "             subtitle='Phase 4 - Bar - Big-Small RFM', layout_height=1024)"
   ]
  },
  {
   "cell_type": "markdown",
   "metadata": {},
   "source": [
    "# Phase 5 - Moving RFM Analysis"
   ]
  },
  {
   "cell_type": "markdown",
   "metadata": {},
   "source": [
    "- Calculate RFM values on each periods"
   ]
  },
  {
   "cell_type": "code",
   "execution_count": null,
   "metadata": {},
   "outputs": [],
   "source": [
    "def generate_moving_rfm(df_dict, groupby, n_group=4, subtitle=None):\n",
    "    for key, df in df_dict.items():\n",
    "        print(key)\n",
    "        \n",
    "        # Gather dates\n",
    "        dates = np.sort(df['draw_date'].unique())\n",
    "        dates = list(map(lambda x: pd.Timestamp(x), dates))\n",
    "        \n",
    "        # Gather years\n",
    "        years = list(set([x.year for x in dates]))\n",
    "        \n",
    "        for year in years:\n",
    "            # Filter for dates fall under year\n",
    "            filter_dates = [x for x in dates if x.year == year]\n",
    "            \n",
    "            # Perform RFM analysis on each dates\n",
    "            filter_list = []\n",
    "            for date in filter_dates:\n",
    "                # Date filtering\n",
    "                filter_df = df[df['draw_date'] <= date].copy()\n",
    "\n",
    "                # Calculate RFM values\n",
    "                filter_df = rfm_value(filter_df, groupby=groupby, target_date=date)\n",
    "\n",
    "                # Calculate average monetary\n",
    "                filter_df['monetary'] = filter_df['monetary'] / filter_df['frequency']\n",
    "                filter_df['monetary'] = np.round(filter_df['monetary'], 2)\n",
    "\n",
    "                # Assign RFM quantiles\n",
    "                filter_df = rfm_quantitle(filter_df, 'recency', n_group=n_group, inverse=True)\n",
    "                filter_df = rfm_quantitle(filter_df, 'frequency', n_group=n_group)\n",
    "                filter_df = rfm_quantitle(filter_df, 'monetary', n_group=n_group)\n",
    "\n",
    "                # Assign RFM segments\n",
    "                filter_df = rfm_segment(filter_df)\n",
    "\n",
    "                # Calculate RFM scores\n",
    "                filter_df = rfm_score(filter_df)\n",
    "\n",
    "                # Assign RFM levels\n",
    "                # filter_df = rfm_level(filter_df)\n",
    "\n",
    "                # Collect data\n",
    "                filter_df['date'] = date\n",
    "                filter_list.append(filter_df.to_dict())\n",
    "\n",
    "            # Compile data for each dates\n",
    "            rfm_df = pd.concat([pd.DataFrame(x) for x in filter_list]).reset_index(drop=True)\n",
    "            \n",
    "            # Export moving RFM\n",
    "            fp.generate_csv(rfm_df, out_path=f'{OUT_PATH_FILE}{key}', out_filename=f'{key} - Moving RFM - {year}.csv', export_index=False)"
   ]
  },
  {
   "cell_type": "code",
   "execution_count": null,
   "metadata": {
    "scrolled": true
   },
   "outputs": [],
   "source": [
    "EXEC_START = time.time()\n",
    "\n",
    "generate_moving_rfm(df_dict, groupby='number', n_group=10)\n",
    "\n",
    "EXEC_END = time.time()\n",
    "time_taken(EXEC_END - EXEC_START)"
   ]
  },
  {
   "cell_type": "markdown",
   "metadata": {},
   "source": [
    "# Phase 6 - Complete Set"
   ]
  },
  {
   "cell_type": "code",
   "execution_count": null,
   "metadata": {},
   "outputs": [],
   "source": [
    "def load_moving_rfm(company_code, start_year=None, end_year=None):\n",
    "    files      = glob.glob(f'{OUT_PATH_FILE}{company_code}/{company_code} - Moving RFM - *.csv')\n",
    "    files_dict = {x: int(x[x.index('.csv') - 4: x.index('.csv')]) for x in files}\n",
    "    files      = [k for k,v in files_dict.items()\n",
    "                  if (True if start_year is None else v >= start_year) and (True if end_year is None else v <= end_year)]\n",
    "    \n",
    "    dfs = []\n",
    "    for file in files:\n",
    "        print(file)\n",
    "        df_chunks   = pd.read_csv(file, sep=';', dtype={'number': str},\n",
    "                                  parse_dates=['date'],\n",
    "                                  date_parser=lambda x: pd.to_datetime(x, format='%Y-%m-%d'),\n",
    "                                  chunksize=50_000)\n",
    "        df = pd.concat(df_chunks)\n",
    "        dfs.append(df)\n",
    "        \n",
    "    return pd.concat(dfs)"
   ]
  },
  {
   "cell_type": "code",
   "execution_count": null,
   "metadata": {
    "scrolled": true
   },
   "outputs": [],
   "source": [
    "# Magnum\n",
    "# - Operate from 1985-04-25, and 2013-11-17 is the date where all numbers occurs at least once\n",
    "# - Last number to occur is 6962\n",
    "company_code = 'MAG'\n",
    "df = load_moving_rfm(company_code, start_year=2013, end_year=2013)\n",
    "df = df[df['date'] <= '2013-11-17'].reset_index().copy()\n",
    "\n",
    "# # Da Ma Cai\n",
    "# # - Operate from 1990-01-06, and 2016-11-27 is the date where all numbers occurs at least once\n",
    "# # - Last number to occur is 6771\n",
    "# company_code = 'DMC'\n",
    "# df = load_moving_rfm(company_code, start_year=2016, end_year=2016)\n",
    "# df = df[df['date'] <= '2016-11-27'].reset_index().copy()\n",
    "\n",
    "# # Sports Toto\n",
    "# # - Operate from 1992-05-06, and 2015-05-27 is the date where all numbers occurs at least once\n",
    "# # - Last number to occur is 5488\n",
    "# company_code = 'ST'\n",
    "# df = load_moving_rfm(company_code, start_year=2015, end_year=2015)\n",
    "# df = df[df['date'] <= '2015-05-27'].reset_index().copy()"
   ]
  },
  {
   "cell_type": "code",
   "execution_count": null,
   "metadata": {},
   "outputs": [],
   "source": [
    "rfm_df = df.groupby('number').agg(\n",
    "    recency=('recency', 'last'),\n",
    "    frequency=('frequency', 'last'),\n",
    "    monetary=('monetary', 'last'),\n",
    "    recency_quantile=('recency_quantile', 'last'),\n",
    "    frequency_quantile=('frequency_quantile', 'last'),\n",
    "    monetary_quantile=('monetary_quantile', 'last'),\n",
    "    rfm_score=('rfm_score', 'last'),\n",
    "    first_date=('date', 'min'),\n",
    "    last_date=('date', 'max')\n",
    ").reset_index()\n",
    "\n",
    "rfm_df.shape"
   ]
  },
  {
   "cell_type": "code",
   "execution_count": null,
   "metadata": {},
   "outputs": [],
   "source": [
    "boxplot(rfm_df, x_col='recency_quantile', y_cols=['recency', 'frequency', 'monetary'],\n",
    "        subfolder=company_code,\n",
    "        subtitle='Phase 5 - Box-Plot - Recency Quantile - Complete Set')"
   ]
  },
  {
   "cell_type": "code",
   "execution_count": null,
   "metadata": {},
   "outputs": [],
   "source": [
    "boxplot(rfm_df, x_col='frequency_quantile', y_cols=['recency', 'frequency', 'monetary'],\n",
    "        subtitle='Phase 5 - Box-Plot - Frequency Quantile - Complete Set')"
   ]
  },
  {
   "cell_type": "code",
   "execution_count": null,
   "metadata": {},
   "outputs": [],
   "source": [
    "boxplot(rfm_df, x_col='monetary_quantile', y_cols=['recency', 'frequency', 'monetary'],\n",
    "        subtitle='Phase 5 - Box-Plot - Monetary Quantile - Complete Set')"
   ]
  },
  {
   "cell_type": "code",
   "execution_count": null,
   "metadata": {},
   "outputs": [],
   "source": []
  },
  {
   "cell_type": "code",
   "execution_count": null,
   "metadata": {},
   "outputs": [],
   "source": []
  },
  {
   "cell_type": "code",
   "execution_count": null,
   "metadata": {},
   "outputs": [],
   "source": []
  },
  {
   "cell_type": "code",
   "execution_count": null,
   "metadata": {},
   "outputs": [],
   "source": []
  },
  {
   "cell_type": "code",
   "execution_count": null,
   "metadata": {},
   "outputs": [],
   "source": []
  },
  {
   "cell_type": "code",
   "execution_count": null,
   "metadata": {},
   "outputs": [],
   "source": []
  }
 ],
 "metadata": {
  "kernelspec": {
   "display_name": "Python 3",
   "language": "python",
   "name": "python3"
  },
  "language_info": {
   "codemirror_mode": {
    "name": "ipython",
    "version": 3
   },
   "file_extension": ".py",
   "mimetype": "text/x-python",
   "name": "python",
   "nbconvert_exporter": "python",
   "pygments_lexer": "ipython3",
   "version": "3.7.3"
  }
 },
 "nbformat": 4,
 "nbformat_minor": 2
}
