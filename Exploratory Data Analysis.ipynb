{
 "cells": [
  {
   "cell_type": "code",
   "execution_count": null,
   "metadata": {},
   "outputs": [],
   "source": [
    "import lib._util.visualplot as vp\n",
    "import lib._util.fileproc as fp\n",
    "import lib._util.dimreduce as dr"
   ]
  },
  {
   "cell_type": "code",
   "execution_count": null,
   "metadata": {},
   "outputs": [],
   "source": [
    "import pandas as pd\n",
    "import copy\n",
    "\n",
    "# Plotly\n",
    "import plotly.express as px\n",
    "import plotly.graph_objects as go\n",
    "\n",
    "# Time measurement\n",
    "import time\n",
    "from datetime import timedelta, datetime\n",
    "\n",
    "# Sound notification\n",
    "import winsound"
   ]
  },
  {
   "cell_type": "markdown",
   "metadata": {},
   "source": [
    "# Useful Functions"
   ]
  },
  {
   "cell_type": "code",
   "execution_count": null,
   "metadata": {},
   "outputs": [],
   "source": [
    "SOURCE_PATH_DATA = 'resources/data/'\n",
    "OUT_PATH_GRAPH = 'resources/output/eda/graph/'\n",
    "\n",
    "def time_taken(seconds):\n",
    "    print(f'\\nTime Taken: {str(timedelta(seconds=seconds))}')\n",
    "#     winsound.Beep(frequency=1000, duration=100)\n",
    "#     winsound.Beep(frequency=1500, duration=50)"
   ]
  },
  {
   "cell_type": "markdown",
   "metadata": {},
   "source": [
    "# Phase 1 - Data Loading"
   ]
  },
  {
   "cell_type": "code",
   "execution_count": null,
   "metadata": {},
   "outputs": [],
   "source": [
    "def load_data(filename):\n",
    "    source_file = f'{SOURCE_PATH_DATA}{filename}'\n",
    "    df_chunks   = pd.read_csv(source_file, sep=';', dtype={'number': str},\n",
    "                              parse_dates=['draw_date'],\n",
    "                              date_parser=lambda x: pd.to_datetime(x, format='%Y-%m-%d'),\n",
    "                              chunksize=50_000)\n",
    "    df = pd.concat(df_chunks)\n",
    "    \n",
    "    # Separate by company\n",
    "    df_dict = dict()\n",
    "    for company in df['company_code'].unique():\n",
    "        df_dict[company] = df[df['company_code'] == company].copy()\n",
    "    \n",
    "    return df_dict"
   ]
  },
  {
   "cell_type": "code",
   "execution_count": null,
   "metadata": {},
   "outputs": [],
   "source": [
    "EXEC_START = time.time()\n",
    "\n",
    "df_dict = load_data('4D_result_1985-04-25_2019-12-31.csv')\n",
    "print(df_dict.keys())\n",
    "\n",
    "EXEC_END = time.time()\n",
    "time_taken(EXEC_END - EXEC_START)"
   ]
  },
  {
   "cell_type": "code",
   "execution_count": null,
   "metadata": {},
   "outputs": [],
   "source": [
    "def faststat(df_dict):\n",
    "    for key, df in df_dict.items():\n",
    "        print(key)\n",
    "        vp.faststat(df)\n",
    "        print()"
   ]
  },
  {
   "cell_type": "code",
   "execution_count": null,
   "metadata": {},
   "outputs": [],
   "source": [
    "faststat(df_dict)"
   ]
  },
  {
   "cell_type": "code",
   "execution_count": null,
   "metadata": {},
   "outputs": [],
   "source": [
    "def histogram(df_dict, columns=None, subtitle='Histogram', layout_height=None):\n",
    "    for key, df in df_dict.items():\n",
    "        tmp_df = df.copy()\n",
    "        if columns is not None:\n",
    "            tmp_df = df[columns].copy()\n",
    "            \n",
    "        vp.histogram(tmp_df, title=f'{key} - {subtitle}', out_path=OUT_PATH_GRAPH, layout_height=layout_height)"
   ]
  },
  {
   "cell_type": "code",
   "execution_count": null,
   "metadata": {},
   "outputs": [],
   "source": [
    "histogram(df_dict, subtitle='Phase 1 - Histogram')"
   ]
  },
  {
   "cell_type": "markdown",
   "metadata": {},
   "source": [
    "# Phase 2 - Data Preparation"
   ]
  },
  {
   "cell_type": "markdown",
   "metadata": {},
   "source": [
    "- Drop non-informative field\n",
    "- Handle invalid position"
   ]
  },
  {
   "cell_type": "code",
   "execution_count": null,
   "metadata": {},
   "outputs": [],
   "source": [
    "for key, df in df_dict.items():\n",
    "    # Drop company column\n",
    "    df.drop(columns=['company_code'], inplace=True)\n",
    "    \n",
    "    # Remove invalid number\n",
    "    df = df[df['number'] != '----'].copy()\n",
    "    \n",
    "    df_dict[key] = df"
   ]
  },
  {
   "cell_type": "code",
   "execution_count": null,
   "metadata": {},
   "outputs": [],
   "source": [
    "# Handle invalid position on DMC due to duplication\n",
    "tmp_df = df_dict['DMC'].copy()\n",
    "tmp_df = tmp_df[tmp_df['position'] <= 10]\n",
    "df_dict['DMC'] = tmp_df.copy()\n",
    "\n",
    "del tmp_df"
   ]
  },
  {
   "cell_type": "code",
   "execution_count": null,
   "metadata": {},
   "outputs": [],
   "source": [
    "histogram(df_dict, subtitle='Phase 2 - Histogram')"
   ]
  },
  {
   "cell_type": "markdown",
   "metadata": {},
   "source": [
    "# Phase 3 - Feature Engineering"
   ]
  },
  {
   "cell_type": "markdown",
   "metadata": {},
   "source": [
    "- Populate number features"
   ]
  },
  {
   "cell_type": "code",
   "execution_count": null,
   "metadata": {},
   "outputs": [],
   "source": [
    "def number_feature(df_dict):\n",
    "    # Load feature data\n",
    "    source_file = f'{SOURCE_PATH_DATA}number_category.csv'\n",
    "    feature_df  = pd.read_csv(source_file, sep=';', dtype={'number': str})\n",
    "    \n",
    "    newdf_dict = copy.deepcopy(df_dict)\n",
    "    for key, df in newdf_dict.items():\n",
    "        df = df.merge(feature_df, on='number', how='left')\n",
    "        newdf_dict[key] = df\n",
    "    \n",
    "    return newdf_dict\n",
    "\n",
    "def price_feature(df_dict):\n",
    "    # Reference: https://www.magnum4d.my/en/4d-game\n",
    "    price_dict = {\n",
    "        'FST': 2500,\n",
    "        'SCD': 1000,\n",
    "        'TRD': 500,\n",
    "        'SP': 180,\n",
    "        'CONS': 60\n",
    "    }\n",
    "    \n",
    "    newdf_dict = copy.deepcopy(df_dict)\n",
    "    for key, df in newdf_dict.items():\n",
    "        df['price'] = df['category'].map(price_dict)\n",
    "    return newdf_dict"
   ]
  },
  {
   "cell_type": "code",
   "execution_count": null,
   "metadata": {},
   "outputs": [],
   "source": [
    "df_dict = number_feature(df_dict)\n",
    "df_dict = price_feature(df_dict)"
   ]
  },
  {
   "cell_type": "code",
   "execution_count": null,
   "metadata": {},
   "outputs": [],
   "source": [
    "faststat(df_dict)"
   ]
  },
  {
   "cell_type": "code",
   "execution_count": null,
   "metadata": {},
   "outputs": [],
   "source": [
    "histogram(df_dict, subtitle='Phase 3 - Histogram', layout_height=1024)"
   ]
  },
  {
   "cell_type": "markdown",
   "metadata": {},
   "source": [
    "# Phase 4 - RFM Analysis"
   ]
  },
  {
   "cell_type": "markdown",
   "metadata": {},
   "source": [
    "- Calculate recency, frequency and monetary values for lottery number\n",
    "- Assign RFM quantiles\n",
    "- Assign RFM segments\n",
    "- Calculate RFM scores\n",
    "- Assign RFM levels"
   ]
  },
  {
   "cell_type": "code",
   "execution_count": null,
   "metadata": {},
   "outputs": [],
   "source": [
    "def generate_rfm(df_dict, groupby):\n",
    "    def rfm_value(df, groupby):\n",
    "        target_date = pd.Timestamp(datetime.now().strftime('%Y-%m-%d'))\n",
    "\n",
    "        rfm_df = df.groupby(groupby).agg(\n",
    "            recency=('draw_date', lambda x: (target_date - x.max()).days),\n",
    "            frequency=('category', 'count'),\n",
    "            monetary=('price', 'sum')\n",
    "        ).reset_index()\n",
    "        \n",
    "        return rfm_df\n",
    "    \n",
    "    def rfm_quantitle(df, column, n_group=4, inverse=False):\n",
    "        labels  = [x for x in range(n_group, 0, -1)] if inverse else [x for x in range(1, n_group +1)]\n",
    "        uniques = df[column].unique()\n",
    "        \n",
    "        quantile_dict = dict(zip(uniques, pd.qcut(uniques, q=n_group, labels=labels)))\n",
    "        df[f'{column}_quantile'] = df[column].map(quantile_dict)\n",
    "        \n",
    "        return df\n",
    "    \n",
    "    def rfm_segment(df):\n",
    "        df['rfm_segment'] = df['recency_quantile'].astype(str) + '_' + df['frequency_quantile'].astype(str) + '_' + df['monetary_quantile'].astype(str)\n",
    "        return df\n",
    "    \n",
    "    def rfm_score(df):\n",
    "        df['rfm_score'] = df[['recency_quantile', 'frequency_quantile', 'monetary_quantile']].sum(axis=1)\n",
    "        return df\n",
    "    \n",
    "    def rfm_level(df):\n",
    "        # Reference: https://towardsdatascience.com/recency-frequency-monetary-model-with-python-and-how-sephora-uses-it-to-optimize-their-google-d6a0707c5f17\n",
    "        df.loc[df['rfm_score'] <= 3, 'rfm_level'] = 'Activation Required (6)'\n",
    "\n",
    "        df.loc[(df['rfm_score'] <= 5) &\n",
    "               (df['rfm_level'].isna() == True), 'rfm_level'] = 'Needs Attention (5)'\n",
    "\n",
    "        df.loc[(df['rfm_score'] <= 7) &\n",
    "               (df['rfm_level'].isna() == True), 'rfm_level'] = 'Promising (4)'\n",
    "\n",
    "        df.loc[(df['rfm_score'] <= 9) &\n",
    "               (df['rfm_level'].isna() == True), 'rfm_level'] = 'Potential (3)'\n",
    "\n",
    "        df.loc[(df['rfm_score'] <= 11) &\n",
    "               (df['rfm_level'].isna() == True), 'rfm_level'] = 'Champions (2)'\n",
    "\n",
    "        df.loc[(df['rfm_score'] <= 12) &\n",
    "               (df['rfm_level'].isna() == True), 'rfm_level'] = 'Best of the Best (1)'\n",
    "        \n",
    "        # Reference: https://www.optimove.com/resources/learning-center/rfm-segmentation\n",
    "        # RFM score: 8 - 9\n",
    "        df.loc[df['rfm_segment'].isin(['4_1_4', '4_1_3']), 'rfm_level'] = 'High Profit New Number (3)'\n",
    "        # RFM score: 7 - 9\n",
    "        df.loc[df['rfm_segment'].isin(['3_4_1', '3_3_1', '4_4_1', '4_3_1']), 'rfm_level'] = 'Lowest Profit Active Number (3.5)'\n",
    "        # RFM score: 7 - 9\n",
    "        df.loc[df['rfm_segment'].isin(['1_3_3', '1_3_4', '1_4_3', '1_4_4']), 'rfm_level'] = 'Best Number At Risk (3.5)'\n",
    "        \n",
    "        return df\n",
    "    \n",
    "    newdf_dict = copy.deepcopy(df_dict)\n",
    "    for key, df in newdf_dict.items():\n",
    "        # Calculate RFM values\n",
    "        df = rfm_value(df, groupby)\n",
    "        \n",
    "        # Assign RFM quantiles\n",
    "        df = rfm_quantitle(df, 'recency', inverse=True)\n",
    "        df = rfm_quantitle(df, 'frequency')\n",
    "        df = rfm_quantitle(df, 'monetary')\n",
    "        \n",
    "        # Assign RFM segments\n",
    "        df = rfm_segment(df)\n",
    "        \n",
    "        # Calculate RFM scores\n",
    "        df = rfm_score(df)\n",
    "        \n",
    "        # Assign RFM levels\n",
    "        df = rfm_level(df)\n",
    "        \n",
    "        newdf_dict[key] = df\n",
    "    \n",
    "    return newdf_dict"
   ]
  },
  {
   "cell_type": "code",
   "execution_count": null,
   "metadata": {},
   "outputs": [],
   "source": [
    "rfmdf_dict = generate_rfm(df_dict, groupby='number')"
   ]
  },
  {
   "cell_type": "code",
   "execution_count": null,
   "metadata": {},
   "outputs": [],
   "source": [
    "histogram(rfmdf_dict, subtitle='Phase 4 - Histogram', layout_height=1024)"
   ]
  },
  {
   "cell_type": "code",
   "execution_count": null,
   "metadata": {},
   "outputs": [],
   "source": [
    "for key, df in rfmdf_dict.items():\n",
    "    df['left_digits'] = df['number'].str.slice(stop=2)\n",
    "    df['right_digits'] = df['number'].str.slice(start=2, stop=4)"
   ]
  },
  {
   "cell_type": "code",
   "execution_count": null,
   "metadata": {},
   "outputs": [],
   "source": [
    "def number_heatmap(df_dict, z_col, subtitle='Heatmap', layout_height=None):\n",
    "    for key, df in df_dict.items():\n",
    "        vp.heatmap(df, x_col='left_digits', y_col='right_digits', z_col=z_col,\n",
    "                   colorscale='Viridis',\n",
    "                   text='Number: ' + df['number'] + '<br>RFM Segment: ' + df['rfm_segment'],\n",
    "                   hoverinfo='text',\n",
    "                   title=f'{key} - {subtitle}', out_path=OUT_PATH_GRAPH, layout_height=layout_height)"
   ]
  },
  {
   "cell_type": "code",
   "execution_count": null,
   "metadata": {},
   "outputs": [],
   "source": [
    "number_heatmap(rfmdf_dict, z_col='rfm_score', subtitle='Phase 4 - Heatmap - RFM Score')"
   ]
  },
  {
   "cell_type": "code",
   "execution_count": null,
   "metadata": {},
   "outputs": [],
   "source": [
    "number_heatmap(rfmdf_dict, z_col='recency_quantile', subtitle='Phase 4 - Heatmap - Recency Quantile')"
   ]
  },
  {
   "cell_type": "code",
   "execution_count": null,
   "metadata": {},
   "outputs": [],
   "source": [
    "number_heatmap(rfmdf_dict, z_col='frequency_quantile', subtitle='Phase 4 - Heatmap - Frequency Quantile')"
   ]
  },
  {
   "cell_type": "code",
   "execution_count": null,
   "metadata": {},
   "outputs": [],
   "source": [
    "number_heatmap(rfmdf_dict, z_col='monetary_quantile', subtitle='Phase 4 - Heatmap - Monetary Quantile')"
   ]
  },
  {
   "cell_type": "code",
   "execution_count": null,
   "metadata": {},
   "outputs": [],
   "source": []
  }
 ],
 "metadata": {
  "kernelspec": {
   "display_name": "Python 3",
   "language": "python",
   "name": "python3"
  },
  "language_info": {
   "codemirror_mode": {
    "name": "ipython",
    "version": 3
   },
   "file_extension": ".py",
   "mimetype": "text/x-python",
   "name": "python",
   "nbconvert_exporter": "python",
   "pygments_lexer": "ipython3",
   "version": "3.7.3"
  }
 },
 "nbformat": 4,
 "nbformat_minor": 2
}
