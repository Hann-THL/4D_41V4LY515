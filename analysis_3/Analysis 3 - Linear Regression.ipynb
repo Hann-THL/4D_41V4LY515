{
 "cells": [
  {
   "cell_type": "code",
   "execution_count": null,
   "metadata": {},
   "outputs": [],
   "source": [
    "import pandas as pd\n",
    "from matplotlib import pyplot as plt\n",
    "from sklearn.model_selection import train_test_split\n",
    "from sklearn import linear_model\n",
    "import numpy as np\n",
    "\n",
    "# interactive graphs on jupyter notebook\n",
    "import mpld3"
   ]
  },
  {
   "cell_type": "markdown",
   "metadata": {},
   "source": [
    "# 1. Data Extraction"
   ]
  },
  {
   "cell_type": "code",
   "execution_count": null,
   "metadata": {},
   "outputs": [],
   "source": [
    "filename = '../resources/data/4D_result_2018-01-01_2018-12-31.csv'\n",
    "raw_data = pd.read_csv(filename, sep=';', dtype={'number': str})\n",
    "# raw_data.info()"
   ]
  },
  {
   "cell_type": "markdown",
   "metadata": {},
   "source": [
    "# 2. Data Transformation"
   ]
  },
  {
   "cell_type": "code",
   "execution_count": null,
   "metadata": {},
   "outputs": [],
   "source": [
    "transform_data = raw_data.copy()\n",
    "transform_data.loc[transform_data['company_code'] == 'DMC', 'company_code'] = 'Da Ma Cai'\n",
    "transform_data.loc[transform_data['company_code'] == 'MAG', 'company_code'] = 'Magnum'\n",
    "transform_data.loc[transform_data['company_code'] == 'ST', 'company_code'] = 'Sports Toto'\n",
    "\n",
    "transform_data.loc[transform_data['category'] == 'FST', 'category'] = '1st'\n",
    "transform_data.loc[transform_data['category'] == 'SCD', 'category'] = '2nd'\n",
    "transform_data.loc[transform_data['category'] == 'TRD', 'category'] = '3rd'\n",
    "transform_data.loc[transform_data['category'] == 'SP', 'category'] = 'Special'\n",
    "transform_data.loc[transform_data['category'] == 'CONS', 'category'] = 'Consolation'"
   ]
  },
  {
   "cell_type": "markdown",
   "metadata": {},
   "source": [
    "# 3. Data Filtering"
   ]
  },
  {
   "cell_type": "code",
   "execution_count": null,
   "metadata": {},
   "outputs": [],
   "source": [
    "date_from = transform_data.min()['draw_date']\n",
    "date_to = transform_data.max()['draw_date']\n",
    "\n",
    "# date_from = '2018-01-01'\n",
    "# date_to = '2018-01-31'\n",
    "\n",
    "categories = ['1st', '2nd', '3rd', 'Special', 'Consolation']\n",
    "price_count = sum(list(map(lambda x:\n",
    "                           (x == '1st' or x == '2nd' or x == '3rd') and 1 or\n",
    "                           (x == 'Special' or x == 'Consolation') and 10 or 0, categories\n",
    "                          )))\n",
    "\n",
    "company_code = 'Magnum'\n",
    "data = transform_data[(transform_data['number'] != '----') &\n",
    "                      (transform_data['company_code'] == company_code) &\n",
    "                      (transform_data['draw_date'] >= date_from) &\n",
    "                      (transform_data['draw_date'] <= date_to) &\n",
    "                      (transform_data['category'].isin(categories))]\n",
    "data = data.sort_values(by=['draw_date', 'company_code', 'category', 'position'])"
   ]
  },
  {
   "cell_type": "markdown",
   "metadata": {},
   "source": [
    "# 4. Pre-Processing\n",
    "### 4.1 Input & Target Preparation"
   ]
  },
  {
   "cell_type": "code",
   "execution_count": null,
   "metadata": {
    "scrolled": true
   },
   "outputs": [],
   "source": [
    "period_arr = []\n",
    "period_dict = data.groupby('draw_date').groups\n",
    "for k in period_dict.keys():\n",
    "    period_arr.append([data.loc[i]['number'] for i in period_dict.get(k)])"
   ]
  },
  {
   "cell_type": "code",
   "execution_count": null,
   "metadata": {},
   "outputs": [],
   "source": [
    "max_value = 9999\n",
    "input_data = []\n",
    "target_data = []\n",
    "\n",
    "period_count = 2\n",
    "for i, arr in enumerate(period_arr): \n",
    "    if i == len(period_arr) - period_count:\n",
    "        break\n",
    "    \n",
    "    tmp_arr = []\n",
    "    for n in range(period_count):\n",
    "        tmp_arr.append(\n",
    "            list(filter(lambda x: x[0] == i+n, enumerate(period_arr)))[0][1]\n",
    "        )\n",
    "    \n",
    "    # Data Normalization\n",
    "    input_data.append(\n",
    "        [[float(n) / max_value for n in tmp_arr2] for tmp_arr2 in tmp_arr]\n",
    "    )\n",
    "    target_data.append(\n",
    "        [float(n) / max_value for n in period_arr[i + period_count]]\n",
    "    )"
   ]
  },
  {
   "cell_type": "code",
   "execution_count": null,
   "metadata": {},
   "outputs": [],
   "source": [
    "input_data = np.array(input_data, dtype=float)\n",
    "target_data = np.array(target_data, dtype=float)\n",
    "\n",
    "print('input_data.shape\\t', input_data.shape)\n",
    "print('target_data.shape\\t', target_data.shape)"
   ]
  },
  {
   "cell_type": "markdown",
   "metadata": {},
   "source": [
    "### 4.2 Train & Test Preparation"
   ]
  },
  {
   "cell_type": "code",
   "execution_count": null,
   "metadata": {},
   "outputs": [],
   "source": [
    "x_train, x_test, y_train, y_test = train_test_split(input_data, target_data, test_size=0.2, random_state=4)\n",
    "\n",
    "print('x_train.shape', x_train.shape)\n",
    "print('x_test.shape', x_test.shape)"
   ]
  },
  {
   "cell_type": "markdown",
   "metadata": {},
   "source": [
    "# 5. Linear Regression"
   ]
  },
  {
   "cell_type": "code",
   "execution_count": null,
   "metadata": {},
   "outputs": [],
   "source": [
    "reshape_size = price_count * period_count\n",
    "\n",
    "reg = linear_model.LinearRegression()\n",
    "reg.fit(x_train.reshape(-1, reshape_size), y_train)\n",
    "results = reg.predict(x_test.reshape(-1, reshape_size))\n",
    "\n",
    "print('results.shape', results.shape)\n",
    "print('y_test.shape', y_test.shape)"
   ]
  },
  {
   "cell_type": "markdown",
   "metadata": {},
   "source": [
    "# 6. Result Visualization"
   ]
  },
  {
   "cell_type": "code",
   "execution_count": null,
   "metadata": {},
   "outputs": [],
   "source": [
    "mpld3.enable_notebook()\n",
    "plt.rcParams['figure.figsize'] = [6, 4]\n",
    "\n",
    "for i, arr in enumerate(y_test[:10]):\n",
    "    plt.title(f'Test Data: {i+1}')\n",
    "    plt.plot(range(results.shape[1]), results[i], c='r', marker='*', ls='none', label='Predicted')\n",
    "    plt.plot(range(results.shape[1]), arr, c='g', marker='x', ls='none', label='Expected')\n",
    "    plt.show()"
   ]
  },
  {
   "cell_type": "code",
   "execution_count": null,
   "metadata": {},
   "outputs": [],
   "source": []
  }
 ],
 "metadata": {
  "kernelspec": {
   "display_name": "Python 3",
   "language": "python",
   "name": "python3"
  },
  "language_info": {
   "codemirror_mode": {
    "name": "ipython",
    "version": 3
   },
   "file_extension": ".py",
   "mimetype": "text/x-python",
   "name": "python",
   "nbconvert_exporter": "python",
   "pygments_lexer": "ipython3",
   "version": "3.7.3"
  }
 },
 "nbformat": 4,
 "nbformat_minor": 2
}
