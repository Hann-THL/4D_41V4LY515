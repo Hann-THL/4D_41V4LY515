{
 "cells": [
  {
   "cell_type": "code",
   "execution_count": null,
   "metadata": {},
   "outputs": [],
   "source": [
    "import os\n",
    "\n",
    "import numpy as np\n",
    "import pandas as pd\n",
    "import itertools\n",
    "\n",
    "# Bokeh\n",
    "from bokeh.plotting import figure, ColumnDataSource\n",
    "from bokeh.models import Legend, HoverTool, LinearColorMapper, BasicTicker, PrintfTickFormatter, ColorBar\n",
    "from bokeh.palettes import Set1, Category10, Category20, Reds\n",
    "from bokeh.layouts import gridplot\n",
    "from bokeh.core.properties import value\n",
    "from bokeh.io import show, output_notebook\n",
    "output_notebook()"
   ]
  },
  {
   "cell_type": "markdown",
   "metadata": {},
   "source": [
    "# 1. Data Extraction"
   ]
  },
  {
   "cell_type": "code",
   "execution_count": null,
   "metadata": {},
   "outputs": [],
   "source": [
    "GLOBAL_IN_PATH  = '../resources/data/'\n",
    "GLOBAL_OUT_PATH = '../resources/output/'\n",
    "\n",
    "IN_PATH  = 'resources/data/'\n",
    "OUT_PATH = 'resources/output/'"
   ]
  },
  {
   "cell_type": "code",
   "execution_count": null,
   "metadata": {},
   "outputs": [],
   "source": [
    "file = f'{GLOBAL_IN_PATH}4D_result_2018-01-01_2018-12-31.csv'\n",
    "raw_df = pd.read_csv(file, sep=';', dtype={'number': str},\n",
    "                     parse_dates=['draw_date'],\n",
    "                     date_parser=lambda x: pd.to_datetime(x, format='%Y-%m-%d'))\n",
    "# raw_df.info()\n",
    "# raw_df.head()"
   ]
  },
  {
   "cell_type": "markdown",
   "metadata": {},
   "source": [
    "# 2. Data Transformation\n",
    "### 2.1 increase data readability"
   ]
  },
  {
   "cell_type": "code",
   "execution_count": null,
   "metadata": {
    "scrolled": true
   },
   "outputs": [],
   "source": [
    "data_df = raw_df.set_index('draw_date')\n",
    "data_df.loc[data_df['company_code'] == 'DMC', 'company_code'] = 'Da Ma Cai'\n",
    "data_df.loc[data_df['company_code'] == 'MAG', 'company_code'] = 'Magnum'\n",
    "data_df.loc[data_df['company_code'] == 'ST', 'company_code'] = 'Sports Toto'\n",
    "\n",
    "data_df.loc[data_df['category'] == 'FST', 'category'] = '1st'\n",
    "data_df.loc[data_df['category'] == 'SCD', 'category'] = '2nd'\n",
    "data_df.loc[data_df['category'] == 'TRD', 'category'] = '3rd'\n",
    "data_df.loc[data_df['category'] == 'SP', 'category'] = 'Special'\n",
    "data_df.loc[data_df['category'] == 'CONS', 'category'] = 'Consolation'\n",
    "\n",
    "data_df.loc[data_df['number'] == '----', 'number'] = np.nan\n",
    "data_df['number'] = data_df['number'].astype(float)\n",
    "# data_df.head()"
   ]
  },
  {
   "cell_type": "markdown",
   "metadata": {},
   "source": [
    "### 2.2 populate clustering categories"
   ]
  },
  {
   "cell_type": "code",
   "execution_count": null,
   "metadata": {},
   "outputs": [],
   "source": [
    "file = f'{GLOBAL_IN_PATH}number_category.csv'\n",
    "category_df = pd.read_csv(file, sep=';', dtype={'number': float})\n",
    "# category_df.info()\n",
    "# category_df.head()"
   ]
  },
  {
   "cell_type": "code",
   "execution_count": null,
   "metadata": {},
   "outputs": [],
   "source": [
    "# Build dictionaries\n",
    "pattern_dict = dict(zip(category_df['number'], category_df['pattern']))\n",
    "group_4_dict = dict(zip(category_df['number'], category_df['group_4']))\n",
    "group_3_dict = dict(zip(category_df['number'], category_df['group_3']))\n",
    "group_2_dict = dict(zip(category_df['number'], category_df['group_2']))\n",
    "group_1_dict = dict(zip(category_df['number'], category_df['group_1']))\n",
    "odd_even_dict = dict(zip(category_df['number'], category_df['odd_even']))\n",
    "big_small_dict = dict(zip(category_df['number'], category_df['big_small']))\n",
    "\n",
    "# Dictionaries lookup\n",
    "data_df['pattern'] = [pattern_dict[row['number']] if row['number'] in pattern_dict else ''\n",
    "                      for index, row in data_df.iterrows()]\n",
    "\n",
    "data_df['group_4'] = [group_4_dict[row['number']] if row['number'] in group_4_dict else ''\n",
    "                      for index, row in data_df.iterrows()]\n",
    "\n",
    "data_df['group_3'] = [group_3_dict[row['number']] if row['number'] in group_3_dict else ''\n",
    "                      for index, row in data_df.iterrows()]\n",
    "\n",
    "data_df['group_2'] = [group_2_dict[row['number']] if row['number'] in group_2_dict else ''\n",
    "                      for index, row in data_df.iterrows()]\n",
    "\n",
    "data_df['group_1'] = [group_1_dict[row['number']] if row['number'] in group_1_dict else ''\n",
    "                      for index, row in data_df.iterrows()]\n",
    "\n",
    "data_df['odd_even'] = [odd_even_dict[row['number']] if row['number'] in odd_even_dict else ''\n",
    "                       for index, row in data_df.iterrows()]\n",
    "\n",
    "data_df['big_small'] = [big_small_dict[row['number']] if row['number'] in big_small_dict else ''\n",
    "                        for index, row in data_df.iterrows()]\n",
    "# data_df.head()"
   ]
  },
  {
   "cell_type": "markdown",
   "metadata": {},
   "source": [
    "### 2.3 distribute data to dictionary"
   ]
  },
  {
   "cell_type": "code",
   "execution_count": null,
   "metadata": {},
   "outputs": [],
   "source": [
    "data_df_dict = dict()\n",
    "\n",
    "for company in data_df['company_code'].unique():\n",
    "    data_df_dict[company] = data_df[(data_df['company_code'] == company)]\n",
    "    \n",
    "print(data_df_dict.keys())"
   ]
  },
  {
   "cell_type": "markdown",
   "metadata": {},
   "source": [
    "# 3. Data Visualization\n"
   ]
  },
  {
   "cell_type": "code",
   "execution_count": null,
   "metadata": {},
   "outputs": [],
   "source": [
    "def showGrid(fig_list, link_x=True, link_y=True, ncols=1, plot_width=950, plot_height=500, legend_font_size='10pt'):\n",
    "    for index, fig in enumerate(fig_list):\n",
    "        if len(fig.legend) > 0:\n",
    "            fig.legend.label_text_font_size = legend_font_size\n",
    "        \n",
    "        if index > 0:\n",
    "            prev_fig = fig_list[index - 1]\n",
    "            if link_x:\n",
    "                fig.x_range = prev_fig.x_range\n",
    "            if link_y:\n",
    "                fig.y_range = prev_fig.y_range\n",
    "\n",
    "    grid = gridplot(fig_list, ncols=ncols, plot_width=plot_width, plot_height=plot_height)\n",
    "    show(grid)\n",
    "    \n",
    "def showGridByGroups(groups, fig_dict, grid_type='big', link_x=True, link_y=True):\n",
    "    for group in groups:\n",
    "        tmp_list = list(filter(lambda x: group in x, fig_dict.keys()))\n",
    "        fig_list = [fig_dict[x] for x in tmp_list]\n",
    "\n",
    "        if grid_type == 'small':\n",
    "            showGrid(fig_list=fig_list, link_x=link_x, link_y=link_y,\n",
    "                     ncols=3, plot_width=300, plot_height=300, legend_font_size='6pt')\n",
    "        else:\n",
    "            showGrid(fig_list=fig_list, link_x=link_x, link_y=link_y)"
   ]
  },
  {
   "cell_type": "markdown",
   "metadata": {},
   "source": [
    "### 3.1 Lottery Rewards"
   ]
  },
  {
   "cell_type": "code",
   "execution_count": null,
   "metadata": {},
   "outputs": [],
   "source": [
    "def lotteryRewardsFigures():\n",
    "    fig_dict = dict()\n",
    "\n",
    "    for key in data_df_dict.keys():\n",
    "        data_df = data_df_dict[key]\n",
    "\n",
    "        palette = Set1\n",
    "        palette_colors = itertools.cycle(palette[max(palette.keys())])\n",
    "\n",
    "        fig = figure(title=f'{key} - Lottery Rewards',\n",
    "                     x_axis_type='datetime',\n",
    "                     x_axis_label='Date', y_axis_label='Number',\n",
    "                     width=950, height=500,\n",
    "                     toolbar_location='above')\n",
    "\n",
    "        items = []\n",
    "        for index, category in enumerate(data_df['category'].unique()):\n",
    "            tmp_df = data_df[data_df['category'] == category]\n",
    "\n",
    "            source = ColumnDataSource(data=dict(\n",
    "                dates=tmp_df.index,\n",
    "                numbers=tmp_df['number'],\n",
    "                categories=tmp_df['category'],\n",
    "            ))\n",
    "\n",
    "            color = next(palette_colors)\n",
    "            alpha = .5\n",
    "            size = 10\n",
    "\n",
    "            if index == 0:\n",
    "                glyph = fig.triangle('dates', 'numbers', color=color, alpha=alpha, size=size, source=source)\n",
    "            elif index == 1:\n",
    "                glyph = fig.square('dates', 'numbers', color=color, alpha=alpha, size=size, source=source)\n",
    "            elif index == 2:\n",
    "                glyph = fig.circle('dates', 'numbers', color=color, alpha=alpha, size=size, source=source)\n",
    "            elif index == 3:\n",
    "                glyph = fig.diamond('dates', 'numbers', color=color, alpha=alpha, size=size, source=source)\n",
    "            else:\n",
    "                glyph = fig.inverted_triangle('dates', 'numbers', color=color, alpha=alpha, size=size, source=source)\n",
    "            items.append((category, [glyph]))\n",
    "\n",
    "        fig.add_layout(Legend(items=items, location='bottom_left', orientation='horizontal', click_policy='hide'), 'below')\n",
    "        fig.add_tools(HoverTool(\n",
    "            tooltips = [\n",
    "                ('Date', '@dates{%F}'),\n",
    "                ('Number', '@numbers'),\n",
    "                ('Price', '@categories'),\n",
    "            ],\n",
    "            formatters={\n",
    "                'dates': 'datetime',\n",
    "            },\n",
    "            mode='mouse'\n",
    "        ))\n",
    "        fig_dict[key] = fig\n",
    "        \n",
    "    return fig_dict"
   ]
  },
  {
   "cell_type": "code",
   "execution_count": null,
   "metadata": {},
   "outputs": [],
   "source": [
    "fig_dict = lotteryRewardsFigures()\n",
    "\n",
    "showGrid(fig_list=list(fig_dict.values()))"
   ]
  },
  {
   "cell_type": "markdown",
   "metadata": {},
   "source": [
    "### 3.2 ABCD Pattern"
   ]
  },
  {
   "cell_type": "code",
   "execution_count": null,
   "metadata": {},
   "outputs": [],
   "source": [
    "def stackedAreaFigures(data_df_dict, group_by, splits_list, split_by='default', title='', palette=Category10):\n",
    "    fig_dict = dict()\n",
    "    \n",
    "    for key in data_df_dict.keys():\n",
    "        data_df = data_df_dict[key].copy()\n",
    "        data_df = data_df[np.isnan(data_df['number']) == False]\n",
    "        \n",
    "        groups_results = []\n",
    "        tmp_dict = data_df.groupby([data_df.index, group_by]).size().to_dict()\n",
    "        tmp_list = [x for x in tmp_dict.items()]\n",
    "\n",
    "        groups = data_df[group_by].unique()\n",
    "        groups.sort()\n",
    "        for group in groups:\n",
    "            tmp_data = list(filter(lambda x: x[0][1] == group, tmp_list))\n",
    "            groups_results.append((group, [(x[0][0], x[1]) for x in tmp_data]))\n",
    "\n",
    "        tmp_list = [[y[0] for y in x[1]] for x in groups_results]\n",
    "        dates = list(set(sum(tmp_list, [])))\n",
    "        dates.sort()\n",
    "\n",
    "        splits_results = []\n",
    "        for splits in splits_list:\n",
    "            if split_by == 'none':\n",
    "                splits_results.append(list(filter(lambda x: True, groups_results)))\n",
    "            elif split_by == 'groups_index':\n",
    "                splits_results.append(list(filter(lambda x: groups_results.index(x) in splits, groups_results)))\n",
    "            else:\n",
    "                splits_results.append(list(filter(lambda x: x[0] in splits, groups_results)))\n",
    "\n",
    "        for index, results in enumerate(splits_results):\n",
    "            tmp_list = sorted([x[0] for x in results])\n",
    "            subtitle = ''\n",
    "            \n",
    "            if split_by == 'groups_index':\n",
    "                subtitle = splits_list[index]\n",
    "            else:\n",
    "                for index2, splits in enumerate(splits_list):\n",
    "                    if ((tmp_list == sorted(splits)) | (all(x in splits for x in tmp_list))) :\n",
    "                        subtitle = index2 < len(splits_list) -1 and f'{splits[0]} Pattern' or 'Other Pattern'\n",
    "                        break\n",
    "                    \n",
    "            tmp_dict = dict()\n",
    "            tmp_dict['dates'] = dates\n",
    "            \n",
    "            for x in results:\n",
    "                occurrences = [0 for date in dates]\n",
    "                group_dates = [y[0] for y in x[1]]\n",
    "                \n",
    "                for y in x[1]:\n",
    "                    if y[1] == 0:\n",
    "                        continue\n",
    "                    date = y[0]\n",
    "                    occurrences[dates.index(date)] = y[1]\n",
    "\n",
    "                tmp_dict[x[0]] = occurrences\n",
    "               \n",
    "            tmp_df = pd.DataFrame(tmp_dict)\n",
    "            tmp_df.set_index('dates', inplace=True)\n",
    "            \n",
    "            \n",
    "            palette_colors = palette[max(palette.keys())][:len(tmp_df.columns)]\n",
    "            \n",
    "            fig = figure(title=f'{key.title()} - {title}{subtitle}',\n",
    "                         x_axis_type='datetime',\n",
    "                         x_axis_label='Date', y_axis_label='Occurrence',\n",
    "                         width=950, height=500,\n",
    "                         toolbar_location='above')\n",
    "            \n",
    "            source = ColumnDataSource(data=tmp_df)\n",
    "            \n",
    "            stackers = list(tmp_df.columns)\n",
    "            fig.varea_stack(stackers=stackers, x='dates', color=palette_colors, legend=[value(x) for x in stackers], source=source)\n",
    "\n",
    "            fig.y_range.start = 0\n",
    "            fig.x_range.range_padding = 0.01\n",
    "            \n",
    "            legend = fig.legend[0]\n",
    "            legend.visible = False\n",
    "            fig.add_layout(Legend(items=legend.items, location='bottom_left', orientation='horizontal', click_policy='hide'), 'below')\n",
    "            \n",
    "            fig_dict[f'{key}_{subtitle}'] = fig\n",
    "            \n",
    "    return fig_dict"
   ]
  },
  {
   "cell_type": "code",
   "execution_count": null,
   "metadata": {},
   "outputs": [],
   "source": [
    "def patternABCDFigures():\n",
    "    pattern_list = list(set([x for x in pattern_dict.values()]))\n",
    "\n",
    "    AAAB_patterns = ['AAAB', 'AABA', 'ABAA']\n",
    "    AABB_patterns = ['AABB', 'ABAB', 'ABBA']\n",
    "    AABC_patterns = ['AABC', 'ABAC', 'ABCA']\n",
    "    ABBC_patterns = ['ABBC', 'ABCB']\n",
    "    ABCD_other_patterns = list(\n",
    "        filter(lambda x: x not in AAAB_patterns + AABB_patterns + AABC_patterns + ABBC_patterns, pattern_list)\n",
    "    )\n",
    "\n",
    "    splits_list = [AAAB_patterns, AABB_patterns, AABC_patterns, ABBC_patterns, ABCD_other_patterns]\n",
    "    fig_dict = stackedAreaFigures(data_df_dict, group_by='pattern', splits_list=splits_list)\n",
    "    \n",
    "    return fig_dict"
   ]
  },
  {
   "cell_type": "code",
   "execution_count": null,
   "metadata": {
    "scrolled": false
   },
   "outputs": [],
   "source": [
    "fig_dict = patternABCDFigures()\n",
    "\n",
    "showGridByGroups(groups=data_df_dict.keys(), fig_dict=fig_dict, grid_type='small')"
   ]
  },
  {
   "cell_type": "markdown",
   "metadata": {},
   "source": [
    "### 3.3 N\\*** Pattern"
   ]
  },
  {
   "cell_type": "code",
   "execution_count": null,
   "metadata": {},
   "outputs": [],
   "source": [
    "def patternNXXXFigures(split_by):\n",
    "    if split_by == 'groups_index':\n",
    "        splits_list = [[0, 1, 2, 3], [4, 5, 6], [7, 8, 9]]\n",
    "        fig_dict = stackedAreaFigures(data_df_dict, group_by='group_4', splits_list=splits_list, title='N*** Pattern',\n",
    "                                      split_by=split_by)\n",
    "    else:\n",
    "        splits_list = [[0, 1, 2, 3, 4, 5, 6, 7, 8, 9]]\n",
    "        fig_dict = stackedAreaFigures(data_df_dict, group_by='group_4', splits_list=splits_list, title='N*** Pattern',\n",
    "                                      split_by='none', palette=Category20)\n",
    "    \n",
    "    return fig_dict"
   ]
  },
  {
   "cell_type": "code",
   "execution_count": null,
   "metadata": {
    "scrolled": false
   },
   "outputs": [],
   "source": [
    "split_by = 'groups_index'\n",
    "fig_dict = patternNXXXFigures(split_by=split_by)\n",
    "\n",
    "if (split_by == 'groups_index'):\n",
    "    showGridByGroups(groups=data_df_dict.keys(), fig_dict=fig_dict, grid_type='small')\n",
    "else:\n",
    "    showGridByGroups(groups=data_df_dict.keys(), fig_dict=fig_dict)"
   ]
  },
  {
   "cell_type": "markdown",
   "metadata": {},
   "source": [
    "### 3.4 \\*N** Pattern"
   ]
  },
  {
   "cell_type": "code",
   "execution_count": null,
   "metadata": {},
   "outputs": [],
   "source": [
    "def patternXNXXFigures(split_by):\n",
    "    if split_by == 'groups_index':\n",
    "        splits_list = [[0, 1, 2, 3], [4, 5, 6], [7, 8, 9]]\n",
    "        fig_dict = stackedAreaFigures(data_df_dict, group_by='group_3', splits_list=splits_list, title='*N** Pattern',\n",
    "                                      split_by=split_by)\n",
    "    else:\n",
    "        splits_list = [[0, 1, 2, 3, 4, 5, 6, 7, 8, 9]]\n",
    "        fig_dict = stackedAreaFigures(data_df_dict, group_by='group_3', splits_list=splits_list, title='*N** Pattern',\n",
    "                                      split_by='none', palette=Category20)\n",
    "    \n",
    "    return fig_dict"
   ]
  },
  {
   "cell_type": "code",
   "execution_count": null,
   "metadata": {},
   "outputs": [],
   "source": [
    "split_by = 'groups_index'\n",
    "fig_dict = patternXNXXFigures(split_by=split_by)\n",
    "\n",
    "if (split_by == 'groups_index'):\n",
    "    showGridByGroups(groups=data_df_dict.keys(), fig_dict=fig_dict, grid_type='small')\n",
    "else:\n",
    "    showGridByGroups(groups=data_df_dict.keys(), fig_dict=fig_dict)"
   ]
  },
  {
   "cell_type": "markdown",
   "metadata": {},
   "source": [
    "### 3.5 \\*\\*N* Pattern"
   ]
  },
  {
   "cell_type": "code",
   "execution_count": null,
   "metadata": {},
   "outputs": [],
   "source": [
    "def patternXXNXFigures(split_by):\n",
    "    if split_by == 'groups_index':\n",
    "        splits_list = [[0, 1, 2, 3], [4, 5, 6], [7, 8, 9]]\n",
    "        fig_dict = stackedAreaFigures(data_df_dict, group_by='group_2', splits_list=splits_list, title='**N* Pattern',\n",
    "                                      split_by=split_by)\n",
    "    else:\n",
    "        splits_list = [[0, 1, 2, 3, 4, 5, 6, 7, 8, 9]]\n",
    "        fig_dict = stackedAreaFigures(data_df_dict, group_by='group_2', splits_list=splits_list, title='**N* Pattern',\n",
    "                                      split_by='none', palette=Category20)\n",
    "    \n",
    "    return fig_dict"
   ]
  },
  {
   "cell_type": "code",
   "execution_count": null,
   "metadata": {},
   "outputs": [],
   "source": [
    "split_by = 'groups_index'\n",
    "fig_dict = patternXXNXFigures(split_by=split_by)\n",
    "\n",
    "if (split_by == 'groups_index'):\n",
    "    showGridByGroups(groups=data_df_dict.keys(), fig_dict=fig_dict, grid_type='small')\n",
    "else:\n",
    "    showGridByGroups(groups=data_df_dict.keys(), fig_dict=fig_dict)"
   ]
  },
  {
   "cell_type": "markdown",
   "metadata": {},
   "source": [
    "### 3.6 \\*\\*\\*N Pattern"
   ]
  },
  {
   "cell_type": "code",
   "execution_count": null,
   "metadata": {},
   "outputs": [],
   "source": [
    "def patternXXXNFigures(split_by):\n",
    "    if split_by == 'groups_index':\n",
    "        splits_list = [[0, 1, 2, 3], [4, 5, 6], [7, 8, 9]]\n",
    "        fig_dict = stackedAreaFigures(data_df_dict, group_by='group_1', splits_list=splits_list, title='***N Pattern',\n",
    "                                      split_by=split_by)\n",
    "    else:\n",
    "        splits_list = [[0, 1, 2, 3, 4, 5, 6, 7, 8, 9]]\n",
    "        fig_dict = stackedAreaFigures(data_df_dict, group_by='group_1', splits_list=splits_list, title='***N Pattern',\n",
    "                                      split_by='none', palette=Category20)\n",
    "    \n",
    "    return fig_dict"
   ]
  },
  {
   "cell_type": "code",
   "execution_count": null,
   "metadata": {},
   "outputs": [],
   "source": [
    "split_by = 'groups_index'\n",
    "fig_dict = patternXXXNFigures(split_by=split_by)\n",
    "\n",
    "if (split_by == 'groups_index'):\n",
    "    showGridByGroups(groups=data_df_dict.keys(), fig_dict=fig_dict, grid_type='small')\n",
    "else:\n",
    "    showGridByGroups(groups=data_df_dict.keys(), fig_dict=fig_dict)"
   ]
  },
  {
   "cell_type": "markdown",
   "metadata": {},
   "source": [
    "### 3.7 OEOE Pattern"
   ]
  },
  {
   "cell_type": "code",
   "execution_count": null,
   "metadata": {},
   "outputs": [],
   "source": [
    "def patternOEOEFigures():\n",
    "    odd_even_list = list(set([x for x in odd_even_dict.values()]))\n",
    "\n",
    "    EEEO_patterns = ['EEEO', 'EEOE', 'EOEE', 'OEEE']\n",
    "    OOOE_patterns = ['OOOE', 'OOEO', 'OEOO', 'EOOO']\n",
    "    EEOO_patterns = ['EEOO', 'EOEO', 'EOOE']\n",
    "    OOEE_patterns = ['OOEE', 'OEOE', 'OEEO']\n",
    "    OEOE_other_patterns = list(\n",
    "        filter(lambda x: x not in EEEO_patterns + OOOE_patterns + EEOO_patterns + OOEE_patterns, odd_even_list)\n",
    "    )\n",
    "\n",
    "    splits_list = [EEEO_patterns, OOOE_patterns, EEOO_patterns, OOEE_patterns, OEOE_other_patterns]\n",
    "    fig_dict= stackedAreaFigures(data_df_dict, group_by='odd_even', splits_list=splits_list)\n",
    "    \n",
    "    return fig_dict"
   ]
  },
  {
   "cell_type": "code",
   "execution_count": null,
   "metadata": {
    "scrolled": false
   },
   "outputs": [],
   "source": [
    "fig_dict = patternOEOEFigures()\n",
    "\n",
    "showGridByGroups(groups=data_df_dict.keys(), fig_dict=fig_dict, grid_type='small')"
   ]
  },
  {
   "cell_type": "markdown",
   "metadata": {},
   "source": [
    "### 3.8 BSBS Pattern"
   ]
  },
  {
   "cell_type": "code",
   "execution_count": null,
   "metadata": {},
   "outputs": [],
   "source": [
    "def patternBSBSFigures():\n",
    "    big_small_list = list(set([x for x in big_small_dict.values()]))\n",
    "\n",
    "    BBBS_patterns = ['BBBS', 'BBSB', 'BSBB', 'SBBB']\n",
    "    SSSB_patterns = ['SSSB', 'SSBS', 'SBSS', 'BSSS']\n",
    "    BBSS_patterns = ['BBSS', 'BSBS', 'BSSB']\n",
    "    SSBB_patterns = ['SSBB', 'SBSB', 'SBBS']\n",
    "    BSBS_other_patterns = list(\n",
    "        filter(lambda x: x not in BBBS_patterns + SSSB_patterns + BBSS_patterns + SSBB_patterns, big_small_list)\n",
    "    )\n",
    "\n",
    "    splits_list = [BBBS_patterns, SSSB_patterns, BBSS_patterns, SSBB_patterns, BSBS_other_patterns]\n",
    "    fig_dict = stackedAreaFigures(data_df_dict, group_by='big_small', splits_list=splits_list)\n",
    "    \n",
    "    return fig_dict"
   ]
  },
  {
   "cell_type": "code",
   "execution_count": null,
   "metadata": {
    "scrolled": false
   },
   "outputs": [],
   "source": [
    "fig_dict = patternBSBSFigures()\n",
    "\n",
    "showGridByGroups(groups=data_df_dict.keys(), fig_dict=fig_dict, grid_type='small')"
   ]
  },
  {
   "cell_type": "markdown",
   "metadata": {},
   "source": [
    "### 3.9 Number Total Occurrence"
   ]
  },
  {
   "cell_type": "code",
   "execution_count": null,
   "metadata": {},
   "outputs": [],
   "source": [
    "def numberTotalOccurrenceFigures():\n",
    "    fig_dict = dict()\n",
    "    \n",
    "    for key in data_df_dict.keys():\n",
    "        tmp_df = data_df_dict[key].groupby(['number']).agg({\n",
    "            'number': 'count'\n",
    "        }).rename(columns={\n",
    "            'number': 'occurrence'\n",
    "        })\n",
    "\n",
    "        tmp_df.index = tmp_df.index.astype(int).astype(str).str.pad(width=4, side='left', fillchar='0')\n",
    "        tmp_df.reset_index(inplace=True)\n",
    "\n",
    "        tmp_df['y_prefix'] = tmp_df['number'].str.slice(0, 2)\n",
    "        tmp_df['x_suffix'] = tmp_df['number'].str.slice(2, 4)\n",
    "        tmp_df.drop(columns=['number'], axis=1, inplace=True)\n",
    "\n",
    "\n",
    "        palette = Reds\n",
    "        palette_set = len(tmp_df['occurrence'].unique())\n",
    "        if palette_set > max(palette.keys()):\n",
    "            palette_set = max(palette.keys())\n",
    "\n",
    "        elif palette_set < min(palette.keys()):\n",
    "            palette_set = min(palette.keys())\n",
    "\n",
    "        palette_colors = np.flip(palette[palette_set])\n",
    "        mapper = LinearColorMapper(palette=palette_colors, low=tmp_df['occurrence'].min(), high=tmp_df['occurrence'].max())\n",
    "\n",
    "        fig = figure(title=f'{key} - Number Total Occurrence',\n",
    "                     width=950, height=500,\n",
    "                     toolbar_location='above',\n",
    "                     x_axis_location=\"above\",\n",
    "                     x_range=tmp_df['x_suffix'].unique(), y_range=np.flip(tmp_df['y_prefix'].unique()),\n",
    "                     tooltips=[('Number', '@y_prefix @x_suffix'), ('Occurrence', '@occurrence')])\n",
    "\n",
    "        fig.rect(x=\"x_suffix\", y=\"y_prefix\", width=1, height=1,\n",
    "                 fill_color={'field': 'occurrence', 'transform': mapper},\n",
    "                 line_color=None, source=tmp_df)\n",
    "\n",
    "        fig.axis.axis_line_color = None\n",
    "        fig.xaxis.major_label_orientation = np.pi / 3\n",
    "\n",
    "        color_bar = ColorBar(color_mapper=mapper,\n",
    "                             major_label_text_font_size=\"8pt\", label_standoff=8,\n",
    "                             border_line_color=None, location=(0, 0),\n",
    "                             ticker=BasicTicker(desired_num_ticks=len(palette_colors)),\n",
    "                             formatter=PrintfTickFormatter(format=\"%d\"))\n",
    "        fig.add_layout(color_bar, 'right')\n",
    "        fig_dict[key] = fig\n",
    "    \n",
    "    return fig_dict"
   ]
  },
  {
   "cell_type": "code",
   "execution_count": null,
   "metadata": {
    "scrolled": false
   },
   "outputs": [],
   "source": [
    "fig_dict = numberTotalOccurrenceFigures()\n",
    "\n",
    "showGrid(fig_list=list(fig_dict.values()))"
   ]
  },
  {
   "cell_type": "markdown",
   "metadata": {},
   "source": [
    "# 6. Candidates\n",
    "### 6.1 Cluster's Count"
   ]
  },
  {
   "cell_type": "code",
   "execution_count": null,
   "metadata": {},
   "outputs": [],
   "source": [
    "def candidateCount(category_df, groupby):\n",
    "    delimiter = ''\n",
    "    output_list = []\n",
    "    \n",
    "    if groupby in category_df.columns:\n",
    "        count_dict = category_df.groupby(groupby).size().to_dict()\n",
    "    \n",
    "    if groupby == 'pattern':\n",
    "        title = 'ABCD Pattern'\n",
    "        output_list = [AAAB_patterns, AABB_patterns, AABC_patterns, ABBC_patterns, ABCD_other_patterns]\n",
    "        \n",
    "    elif groupby == 'odd_even':\n",
    "        title = 'OEOE Pattern'\n",
    "        output_list = [EEEO_patterns, OOOE_patterns, EEOO_patterns, OOEE_patterns, OEOE_other_patterns]\n",
    "        \n",
    "    elif groupby == 'big_small':\n",
    "        title = 'BSBS Pattern'\n",
    "        output_list = [BBBS_patterns, SSSB_patterns, BBSS_patterns, SSBB_patterns, BSBS_other_patterns]\n",
    "        \n",
    "    elif groupby == 'digit_groups':\n",
    "        title = 'Digit Groups'\n",
    "        tmp_list = []\n",
    "        for by in ['group_4', 'group_3', 'group_2', 'group_1']:\n",
    "            count_dict = category_df.groupby(by).size().to_dict()\n",
    "            tmp_list.append([f'{x}: {count_dict.get(x) : >5}' for x in count_dict.keys()])\n",
    "\n",
    "        output_list = []\n",
    "        for index, x in enumerate(tmp_list[0]):\n",
    "            output_list.append([y[index] for y in tmp_list])\n",
    "        \n",
    "    \n",
    "    print(f'\\n{title}')\n",
    "    for index, pattern in enumerate(output_list):\n",
    "        if groupby == 'digit_groups':\n",
    "            output = f'{delimiter:>5} '.join([f'{x}' for x in pattern])\n",
    "        else:\n",
    "            output = f'{delimiter:>5} '.join([f'{x}: {count_dict.get(x) : >5}' for x in pattern])\n",
    "        print(f'{index+1:>2}. {output}')"
   ]
  },
  {
   "cell_type": "code",
   "execution_count": null,
   "metadata": {},
   "outputs": [],
   "source": [
    "candidateCount(category_df, 'pattern')\n",
    "candidateCount(category_df, 'odd_even')\n",
    "candidateCount(category_df, 'big_small')\n",
    "candidateCount(category_df, 'digit_groups')"
   ]
  },
  {
   "cell_type": "markdown",
   "metadata": {},
   "source": [
    "### 6.2 Selection"
   ]
  },
  {
   "cell_type": "code",
   "execution_count": null,
   "metadata": {},
   "outputs": [],
   "source": [
    "pattern_cand = [] + AABC_patterns + ABBC_patterns + ['ABBC', 'ABCD']\n",
    "group_4_cand = []\n",
    "group_3_cand = []\n",
    "group_2_cand = []\n",
    "group_1_cand = []\n",
    "odd_even_cand = []\n",
    "big_small_cand = []\n",
    "\n",
    "candidates = category_df[((len(pattern_cand) <= 0) | (category_df['pattern'].isin(pattern_cand))) &\n",
    "                         (((len(group_4_cand) <= 0) | category_df['group_4'].isin(group_4_cand))) &\n",
    "                         (((len(group_3_cand) <= 0) | category_df['group_3'].isin(group_3_cand))) &\n",
    "                         (((len(group_2_cand) <= 0) | category_df['group_2'].isin(group_2_cand))) &\n",
    "                         (((len(group_1_cand) <= 0) | category_df['group_1'].isin(group_1_cand))) &\n",
    "                         (((len(odd_even_cand) <= 0) | category_df['odd_even'].isin(odd_even_cand))) &\n",
    "                         (((len(big_small_cand) <= 0) | category_df['big_small'].isin(big_small_cand)))]\n",
    "\n",
    "if not os.path.exists(OUT_PATH):\n",
    "    os.makedirs(OUT_PATH)\n",
    "\n",
    "out_file = f'{OUT_PATH}candidates.csv'\n",
    "candidates.to_csv(out_file, sep=';', index=None, header=True)\n",
    "candidates.describe(include='all')"
   ]
  },
  {
   "cell_type": "code",
   "execution_count": null,
   "metadata": {},
   "outputs": [],
   "source": []
  }
 ],
 "metadata": {
  "kernelspec": {
   "display_name": "Python 3",
   "language": "python",
   "name": "python3"
  },
  "language_info": {
   "codemirror_mode": {
    "name": "ipython",
    "version": 3
   },
   "file_extension": ".py",
   "mimetype": "text/x-python",
   "name": "python",
   "nbconvert_exporter": "python",
   "pygments_lexer": "ipython3",
   "version": "3.7.3"
  }
 },
 "nbformat": 4,
 "nbformat_minor": 2
}
