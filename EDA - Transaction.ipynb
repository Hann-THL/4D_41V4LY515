{
 "cells": [
  {
   "cell_type": "code",
   "execution_count": null,
   "metadata": {},
   "outputs": [],
   "source": [
    "import lib._util.visualplot as vp\n",
    "import lib._util.fileproc as fp"
   ]
  },
  {
   "cell_type": "code",
   "execution_count": null,
   "metadata": {},
   "outputs": [],
   "source": [
    "import pandas as pd\n",
    "pd.set_option('display.max_columns', 100)\n",
    "\n",
    "import copy\n",
    "import tqdm\n",
    "\n",
    "# Plotly\n",
    "import plotly.express as px\n",
    "import plotly.graph_objects as go\n",
    "\n",
    "# Time measurement\n",
    "import time\n",
    "from datetime import timedelta, datetime\n",
    "\n",
    "# Sound notification\n",
    "import winsound"
   ]
  },
  {
   "cell_type": "markdown",
   "metadata": {},
   "source": [
    "# Useful Functions"
   ]
  },
  {
   "cell_type": "code",
   "execution_count": null,
   "metadata": {},
   "outputs": [],
   "source": [
    "SOURCE_PATH_DATA = 'resources/data/'\n",
    "OUT_PATH_GRAPH   = 'resources/output/eda_trans/graph/'\n",
    "OUT_PATH_FILE    = 'resources/output/eda_trans/file/'"
   ]
  },
  {
   "cell_type": "code",
   "execution_count": null,
   "metadata": {},
   "outputs": [],
   "source": [
    "def time_taken(seconds):\n",
    "    print(f'\\nTime Taken: {str(timedelta(seconds=seconds))}')\n",
    "    winsound.Beep(frequency=1000, duration=100)\n",
    "    winsound.Beep(frequency=1500, duration=50)\n",
    "\n",
    "def smart_title(text, sep=' '):\n",
    "    return ' '.join(x if x.isupper() else x.title() for x in text.split(sep))"
   ]
  },
  {
   "cell_type": "markdown",
   "metadata": {},
   "source": [
    "# Phase 1 - Data Loading\n",
    "- Load timeseries result"
   ]
  },
  {
   "cell_type": "code",
   "execution_count": null,
   "metadata": {},
   "outputs": [],
   "source": [
    "def load_data(filename):\n",
    "    source_file = f'{SOURCE_PATH_DATA}{filename}'\n",
    "    df_chunks   = pd.read_csv(source_file, sep=';',\n",
    "                              dtype={'number': str},\n",
    "                              parse_dates=['draw_date'],\n",
    "                              date_parser=lambda x: pd.to_datetime(x, format='%Y-%m-%d'),\n",
    "                              chunksize=50_000)\n",
    "    df = pd.concat(df_chunks)\n",
    "    \n",
    "    # Separate by company\n",
    "    df_dict = dict()\n",
    "    for company in df['company_code'].unique():\n",
    "        df_dict[company] = df[df['company_code'] == company].copy()\n",
    "    \n",
    "    return df_dict"
   ]
  },
  {
   "cell_type": "code",
   "execution_count": null,
   "metadata": {},
   "outputs": [],
   "source": [
    "df_dict = load_data('dataset.csv')\n",
    "print(df_dict.keys())"
   ]
  },
  {
   "cell_type": "code",
   "execution_count": null,
   "metadata": {},
   "outputs": [],
   "source": [
    "def faststat(df_dict):\n",
    "    for key, df in df_dict.items():\n",
    "        print(key)\n",
    "        vp.faststat(df)\n",
    "        print()"
   ]
  },
  {
   "cell_type": "code",
   "execution_count": null,
   "metadata": {},
   "outputs": [],
   "source": [
    "faststat(df_dict)"
   ]
  },
  {
   "cell_type": "code",
   "execution_count": null,
   "metadata": {},
   "outputs": [],
   "source": [
    "def histogram(df_dict, title, columns=None,\n",
    "              max_col=2, layout_kwargs={}, to_image=True):\n",
    "    \n",
    "    for key, df in df_dict.items():\n",
    "        columns = df.columns if columns is None else columns\n",
    "        vp.histogram(df[columns],\n",
    "                     bin_algo='count',\n",
    "                     title=f'{key} - {title}',\n",
    "                     out_path=f'{OUT_PATH_GRAPH}{key}/',\n",
    "                     max_col=max_col,\n",
    "                     layout_kwargs=layout_kwargs,\n",
    "                     to_image=to_image)"
   ]
  },
  {
   "cell_type": "code",
   "execution_count": null,
   "metadata": {},
   "outputs": [],
   "source": [
    "histogram(df_dict,\n",
    "          title='Phase 1 - Histogram',\n",
    "          max_col=3)"
   ]
  },
  {
   "cell_type": "markdown",
   "metadata": {},
   "source": [
    "# Phase 2 - Data Preparation\n",
    "- Drop non-informative field\n",
    "- Handle invalid position"
   ]
  },
  {
   "cell_type": "code",
   "execution_count": null,
   "metadata": {},
   "outputs": [],
   "source": [
    "for key, df in df_dict.items():\n",
    "    # Drop company column\n",
    "    df.drop(columns=['company_code'], inplace=True)\n",
    "    \n",
    "    # Remove invalid number\n",
    "    df = df[df['number'] != '----'].reset_index(drop=True).copy()\n",
    "    \n",
    "    df_dict[key] = df\n",
    "    del df"
   ]
  },
  {
   "cell_type": "code",
   "execution_count": null,
   "metadata": {},
   "outputs": [],
   "source": [
    "# Handle invalid position on DMC due to duplication\n",
    "tmp_df = df_dict['DMC'].copy()\n",
    "tmp_df = tmp_df[tmp_df['position'] <= 10].reset_index(drop=True)\n",
    "df_dict['DMC'] = tmp_df.copy()\n",
    "\n",
    "del tmp_df"
   ]
  },
  {
   "cell_type": "code",
   "execution_count": null,
   "metadata": {},
   "outputs": [],
   "source": [
    "histogram(df_dict,\n",
    "          title='Phase 2 - Histogram')"
   ]
  },
  {
   "cell_type": "markdown",
   "metadata": {},
   "source": [
    "# Phase 3 - Data Preparation\n",
    "- Convert to transactional format"
   ]
  },
  {
   "cell_type": "code",
   "execution_count": null,
   "metadata": {},
   "outputs": [],
   "source": [
    "def period_feature(df_dict):\n",
    "    # Load date feature\n",
    "    source_file = f'{SOURCE_PATH_DATA}4D_dates.csv'\n",
    "    period_df   = pd.read_csv(source_file, sep=';',\n",
    "                              parse_dates=['draw_date'],\n",
    "                              date_parser=lambda x: pd.to_datetime(x, format='%Y-%m-%d'))\n",
    "    \n",
    "    newdf_dict = copy.deepcopy(df_dict)\n",
    "    for key, df in newdf_dict.items():\n",
    "        tmp_df = period_df[period_df['company_code'] == key].reset_index(drop=True)\n",
    "        tmp_df.sort_values(by='draw_date', inplace=True)\n",
    "        tmp_df['draw_period'] = tmp_df.index + 1\n",
    "        \n",
    "        df = df.merge(tmp_df[['draw_date', 'draw_period']], on='draw_date', how='left')\n",
    "        newdf_dict[key] = df\n",
    "    \n",
    "    return newdf_dict"
   ]
  },
  {
   "cell_type": "code",
   "execution_count": null,
   "metadata": {},
   "outputs": [],
   "source": [
    "df_dict = period_feature(df_dict)\n",
    "\n",
    "faststat(df_dict)"
   ]
  },
  {
   "cell_type": "code",
   "execution_count": null,
   "metadata": {},
   "outputs": [],
   "source": [
    "def to_transaction(df_dict, trans_value):\n",
    "    newdf_dict = {}\n",
    "    categories = ['1st', '2nd', '3rd'] + [f'Sp{x +1}' for x in range(10)] + [f'Cons{x +1}' for x in range(10)]\n",
    "    \n",
    "    for key, df in df_dict.items():\n",
    "        count_df = df.groupby('draw_date').agg(\n",
    "            count=(trans_value, 'count')\n",
    "        ).reset_index()\n",
    "        \n",
    "        count = count_df['count'].min()\n",
    "        assert count == len(categories), f'{key} - having invalid count'\n",
    "        \n",
    "        # Map draw date\n",
    "        trans_df = pd.DataFrame(df[trans_value].values.reshape(-1, count), columns=categories)\n",
    "        trans_df.index = df['draw_date'].unique()\n",
    "        trans_df.reset_index(inplace=True)\n",
    "        trans_df.rename(columns={'index': 'draw_date'}, inplace=True)\n",
    "        \n",
    "        # Map draw period\n",
    "        period_df = df.groupby('draw_date').agg(\n",
    "            draw_period=('draw_period', 'max')\n",
    "        ).reset_index()\n",
    "        trans_df = trans_df.merge(period_df, on='draw_date', how='left')\n",
    "        \n",
    "        # Re-order columns\n",
    "        date_columns   = ['draw_date', 'draw_period']\n",
    "        remain_columns = [x for x in trans_df.columns if x not in date_columns]\n",
    "        trans_df       = pd.concat([trans_df[date_columns], trans_df[remain_columns]], axis=1)\n",
    "        \n",
    "        newdf_dict[key] = trans_df\n",
    "    \n",
    "    return newdf_dict"
   ]
  },
  {
   "cell_type": "code",
   "execution_count": null,
   "metadata": {
    "scrolled": true
   },
   "outputs": [],
   "source": [
    "transdf_dict = to_transaction(df_dict, trans_value='number')\n",
    "\n",
    "faststat(transdf_dict)"
   ]
  },
  {
   "cell_type": "code",
   "execution_count": null,
   "metadata": {},
   "outputs": [],
   "source": [
    "def transaction_heatmap(df_dict, title,\n",
    "                        heatmap_kwargs={}, layout_kwargs={}, to_image=True):\n",
    "    \n",
    "    heatmap_kwargs['hovertemplate'] = 'Draw Period: %{x}<br>Position: %{y}<br>Digit: %{z}'\n",
    "    categories = ['1st', '2nd', '3rd'] + [f'Sp{x +1}' for x in range(10)] + [f'Cons{x +1}' for x in range(10)]\n",
    "    \n",
    "    for key, df in df_dict.items():\n",
    "        tmp_df = df.copy()\n",
    "        \n",
    "        # Split number to digits\n",
    "        for category in categories:\n",
    "            tmp_df[category] = tmp_df[category].apply(lambda x: [int(c) for c in x])\n",
    "        \n",
    "        # Heatmap for each digits\n",
    "        category_dict = {\n",
    "            0: 'Digit 4',\n",
    "            1: 'Digit 3',\n",
    "            2: 'Digit 2',\n",
    "            3: 'Digit 1'\n",
    "        }\n",
    "        for digit_key, digit_value in category_dict.items():\n",
    "            vp.heatmap(\n",
    "                x=df['draw_period'],\n",
    "                y=categories,\n",
    "                z=df[categories].apply(lambda x: list(map(lambda y: y[digit_key], x))).T.values,\n",
    "                title=f'{key} - {title} - {digit_value}',\n",
    "                out_path=f'{OUT_PATH_GRAPH}{key}/',\n",
    "                layout_kwargs=layout_kwargs,\n",
    "                to_image=to_image,\n",
    "                heatmap_kwargs=heatmap_kwargs\n",
    "            )\n",
    "        print()"
   ]
  },
  {
   "cell_type": "code",
   "execution_count": null,
   "metadata": {},
   "outputs": [],
   "source": [
    "transaction_heatmap(transdf_dict,\n",
    "                    title=f'Phase 3 - Heatmap',\n",
    "                    heatmap_kwargs={'colorscale': 'RdYlGn'},\n",
    "                    to_image=False)"
   ]
  },
  {
   "cell_type": "code",
   "execution_count": null,
   "metadata": {},
   "outputs": [],
   "source": [
    "def transaction_export(df_dict):\n",
    "    for key, df in df_dict.items():\n",
    "        fp.generate_csv(df,\n",
    "                        out_path=f'{OUT_PATH_FILE}{key}/',\n",
    "                        out_filename=f'{key} - transactions.csv',\n",
    "                        export_index=False)"
   ]
  },
  {
   "cell_type": "code",
   "execution_count": null,
   "metadata": {},
   "outputs": [],
   "source": [
    "# Export transaction\n",
    "transaction_export(transdf_dict)"
   ]
  },
  {
   "cell_type": "markdown",
   "metadata": {},
   "source": [
    "# Phase 4 - Feature Engineering\n",
    "- Digit frequency:\n",
    "  - Calculate frequency of 0 - 9 digits on each periods\n",
    "  - Calculate frequency of 00 - 99 digit combinations on each periods"
   ]
  },
  {
   "cell_type": "code",
   "execution_count": null,
   "metadata": {},
   "outputs": [],
   "source": [
    "# Reference: https://www.youtube.com/watch?v=gY3KLGnJPWo\n",
    "def digit_frequency(df_dict):\n",
    "    newdf_dict = copy.deepcopy(df_dict)\n",
    "    categories = ['1st', '2nd', '3rd'] + [f'Sp{x +1}' for x in range(10)] + [f'Cons{x +1}' for x in range(10)]\n",
    "    \n",
    "    for key, df in newdf_dict.items():\n",
    "        # 0 - 9\n",
    "        for x in tqdm.tqdm(range(10)):\n",
    "            digit     = str(x)\n",
    "            df[digit] = df[categories].apply(lambda x: x.str.count(digit)).sum(axis=1)\n",
    "            \n",
    "        # 00 - 99\n",
    "        for x in tqdm.tqdm(range(100)):\n",
    "            digit          = str(x).zfill(2)\n",
    "            digit1, digit2 = [x for x in digit]\n",
    "            \n",
    "            if digit1 == digit2:\n",
    "                df[digit] = df[categories].apply(lambda x: x.str.count(digit1) >= 2).sum(axis=1)\n",
    "            else:\n",
    "                df[digit] = df[categories].apply(lambda x: (x.str.count(digit1) >= 1) &\n",
    "                                                           (x.str.count(digit2) >= 1)).sum(axis=1)\n",
    "            \n",
    "        df.drop(columns=categories, inplace=True)\n",
    "        newdf_dict[key] = df\n",
    "        \n",
    "    return newdf_dict"
   ]
  },
  {
   "cell_type": "code",
   "execution_count": null,
   "metadata": {},
   "outputs": [],
   "source": [
    "EXEC_START = time.time()\n",
    "\n",
    "digitdf_dict = digit_frequency(transdf_dict)\n",
    "\n",
    "faststat(digitdf_dict)\n",
    "\n",
    "EXEC_END = time.time()\n",
    "time_taken(EXEC_END - EXEC_START)"
   ]
  },
  {
   "cell_type": "code",
   "execution_count": null,
   "metadata": {},
   "outputs": [],
   "source": []
  }
 ],
 "metadata": {
  "kernelspec": {
   "display_name": "Python 3",
   "language": "python",
   "name": "python3"
  },
  "language_info": {
   "codemirror_mode": {
    "name": "ipython",
    "version": 3
   },
   "file_extension": ".py",
   "mimetype": "text/x-python",
   "name": "python",
   "nbconvert_exporter": "python",
   "pygments_lexer": "ipython3",
   "version": "3.7.4"
  }
 },
 "nbformat": 4,
 "nbformat_minor": 2
}
